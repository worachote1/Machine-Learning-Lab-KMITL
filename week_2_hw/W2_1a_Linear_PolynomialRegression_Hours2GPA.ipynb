{
  "cells": [
    {
      "cell_type": "code",
      "execution_count": 285,
      "metadata": {
        "id": "axN0cyaGsa3O"
      },
      "outputs": [],
      "source": [
        "import pandas as pd\n",
        "import numpy as np\n",
        "import matplotlib.pyplot as plt\n",
        "import math\n",
        "\n",
        "# Sample data\n",
        "hours = np.array([0, 1, 1, 5, 9, 9, 10, 11, 12, 12])\n",
        "gpa = np.array([0, 0, 0, 2, 3, 3, 3, 4, 4, 4])"
      ]
    },
    {
      "cell_type": "markdown",
      "metadata": {
        "id": "3T7ET1p0b-gM"
      },
      "source": [
        "# Homework\n",
        "\n",
        "1. จากโค้ดที่มีไว้เพื่อสร้าง data ต่อไปนี้\n",
        "$$\\textbf{y} = 3\\textbf{x}^3 + 2\\textbf{x}^2 + 3\\textbf{x} + 4 + 2m*(rand(100,1)-1); m = noise $$\n",
        "``` python\n",
        "m = 1 # Noise Magnitude\n",
        "X_HW = 2 * np.random.rand(100, 1)\n",
        "y_HW = (X ** 3) + 2 * (X ** 2) + 3 * (X ** 1) + 4 + ((np.random.rand(100, 1) * 2 - 1) * m)\n",
        "```\n",
        "  1.1 สร้าง linear regression from scratch แล้ว run แค่เพียง inference (no update)\n",
        "  ``` python\n",
        "  class LinearRegressionScratch:\n",
        "      \"\"\"\n",
        "      Custom implementation of linear regression using ordinary least squares (OLS).\n",
        "      \"\"\"\n",
        "      def __init__(self):\n",
        "          self.coef_ = None\n",
        "          self.intercept_ = None\n",
        "\n",
        "      def fit(self, X, y):\n",
        "          \"\"\"\n",
        "          Fits the linear regression model to the given data.\n",
        "          Args:\n",
        "              X: A numpy array of shape (n_samples, n_features) representing the input data.\n",
        "              y: A numpy array of shape (n_samples,) representing the\n",
        "  target values.\n",
        "          \"\"\"\n",
        "          # Calculate coefficients using the closed-form solution\n",
        "          ...\n",
        "\n",
        "      def predict(self, X):\n",
        "          \"\"\"\n",
        "          Predicts the target values for new data.\n",
        "          Args:\n",
        "              X: A numpy array of shape (n_samples, n_features) representing the new input data.\n",
        "          Returns:\n",
        "              A numpy array of shape (n_samples,) representing the predicted target values.\n",
        "          \"\"\"\n",
        "          return np.dot(X, self.coef_) + self.intercept_\n",
        "  ```\n",
        "  1.2 สร้าง polynomial regression from scratch แล้ว run กำหนดให้อัตราการเรียนรู้ (learning rate) เท่ากับ 1e-3 และจำนวนรอบการวนซ้ำ (iteration) เท่ากับ 1000 รอบ\n",
        "  ``` python\n",
        "  # param init\n",
        "  a0, a1, a2 = ...\n",
        "  alpha = ...  # learning rate\n",
        "  iterations = ...  # iteration of Gradient Descent\n",
        "  m = len(hours)\n",
        "\n",
        "  # forward\n",
        "    class PolyRegressionScratch:\n",
        "      \"\"\"\n",
        "      Custom implementation of linear regression using ordinary least squares (OLS).\n",
        "      \"\"\"\n",
        "      def __init__(self):\n",
        "          self.a2 = 1\n",
        "          self.a1 = 1\n",
        "          self.a0 = 1\n",
        "\n",
        "      def predict(x, a0, a1, a2):\n",
        "          return a2 * x**2 + a1 * x + a0\n",
        "\n",
        "      # Cost function (MSE)\n",
        "      def compute_cost(self, hours, gpa):\n",
        "          ...\n",
        "\n",
        "      # Gradient Descent\n",
        "      for _ in range(iterations):\n",
        "          predictions = ...\n",
        "\n",
        "          # gradient compute\n",
        "          ...\n",
        "\n",
        "          # parameter update\n",
        "          ...\n",
        "\n",
        "          # cost compute if more iteration (optional)\n",
        "          if _ % 100 == 0:\n",
        "              print(f\"Iteration {_}, Cost: {compute_cost(self, hours, gpa)}\")\n",
        "\n",
        "      # print(f\"Optimized a0: {a0}, a1: {a1}, a2: {a2}\")\n",
        "\n",
        "  ```\n",
        "  1.3 เเปลงข้อมูลเป็น extended โดยที่กำหนด power degree เอง และนำ extended dataset ไป fit กับโมเดล Linear Regression\n",
        "  ``` python\n",
        "  from sklearn.preprocessing import PolynomialFeatures\n",
        "  d = ? #เเทนค่าด้วย Degree ที่ควรจะใช้\n",
        "  poly_features = PolynomialFeatures(degree=d, include_bias=False)\n",
        "  X_poly = poly_features.fit_transform(X_HW)\n",
        "  X_HW[0], X_poly[0]\n",
        "\n",
        "  model = ? # เเทนค่า Linear Regression โมเดลที่ฝึกมาลงในตัวเเปล model\n",
        "  ```\n",
        "\n",
        "  1.4  เเเสดงผล plot จาก matplotlib.pyplot ตามโค้ดต่อไปนี้\n",
        "  ``` python\n",
        "  # Plot the data\n",
        "  plt.plot(X_HW, y_HW, \"b.\", label='Sampling data')\n",
        "  x = np.linspace(-3, 3, 1000)\n",
        "\n",
        "  #...linear and non-linear equation สำหรับพล็อตเส้นถดถอย ????...\n",
        "\n",
        "  plt.plot(x, y_linear, \"y-.\", label='Lin-Reg fitting', linewidth=0.25)\n",
        "  plt.plot(x, y_p2_sc, \"r--\", label='Poly-Reg (power=2) from my class function', linewidth=0.5)\n",
        "  plt.plot(x, y_p2_scikit, \"g--\", label='Poly-Reg (power=2) Scikit-learn API', linewidth=0.75)\n",
        "  plt.title('LinearReg vs PolyReg (Scratch) vs PolyReg (Scikit)')\n",
        "  plt.legend()\n",
        "  ```\n",
        "\n",
        "  1.5 วัดผลความแปรปรวนของตัวแปรตามหรือความเข้ากันของระบบเชิงเส้นถดถอยที่ทำนายต่อตัวแปรตามจริงจากระบบวัด R-Squared (R^2 metric) จากทั้ง 3 สมการที่ทำนายพร้อมอธิบายความแตกต่างจากการวัดและแสดงผลที่เกิดขึ้น"
      ]
    },
    {
      "cell_type": "markdown",
      "metadata": {},
      "source": []
    },
    {
      "cell_type": "code",
      "execution_count": 286,
      "metadata": {},
      "outputs": [],
      "source": [
        "\n",
        "m = 1 # Noise Magnitude\n",
        "X_HW = 2 * np.random.rand(100, 1)\n",
        "y_HW = 3 * (X_HW ** 3) + 2 * (X_HW ** 2) + 3 * (X_HW ** 1) + 4 + (2 * m * (np.random.rand(100, 1) - 1))"
      ]
    },
    {
      "cell_type": "code",
      "execution_count": 287,
      "metadata": {},
      "outputs": [],
      "source": [
        "# 1.1 สร้าง linear regression from scratch แล้ว run แค่เพียง inference (no update)\n",
        "class LinearRegressionScratch:\n",
        "    \"\"\"\n",
        "    Custom implementation of linear regression using ordinary least squares (OLS).\n",
        "    \"\"\"\n",
        "    def __init__(self):\n",
        "        self.coef_ = None\n",
        "        self.intercept_ = None\n",
        "\n",
        "    def fit(self, X, y):\n",
        "        \"\"\"\n",
        "        Fits the linear regression model to the given data.\n",
        "        Args:\n",
        "            X: A numpy array of shape (n_samples, n_features) representing the input data.\n",
        "            y: A numpy array of shape (n_samples,) representing the\n",
        "target values.\n",
        "        \"\"\"\n",
        "        # Calculate coefficients using the closed-form solution\n",
        "        self.coef_ = np.dot(np.linalg.inv(np.dot(X.T, X)), np.dot(X.T, y))\n",
        "        self.intercept_ = np.mean(y - np.dot(X, self.coef_))\n",
        "\n",
        "        ...\n",
        "\n",
        "    def predict(self, X):\n",
        "        \"\"\"\n",
        "        Predicts the target values for new data.\n",
        "        Args:\n",
        "            X: A numpy array of shape (n_samples, n_features) representing the new input data.\n",
        "        Returns:\n",
        "            A numpy array of shape (n_samples,) representing the predicted target values.\n",
        "        \"\"\"\n",
        "        return np.dot(X, self.coef_) + self.intercept_"
      ]
    },
    {
      "cell_type": "code",
      "execution_count": 288,
      "metadata": {},
      "outputs": [
        {
          "name": "stdout",
          "output_type": "stream",
          "text": [
            "Iteration 0, Cost: 175.55695460909922\n",
            "Iteration 100, Cost: 32.777133572995304\n",
            "Iteration 200, Cost: 9.210917833476199\n",
            "Iteration 300, Cost: 5.052714606161557\n",
            "Iteration 400, Cost: 4.091180764278277\n",
            "Iteration 500, Cost: 3.6879224411593294\n",
            "Iteration 600, Cost: 3.409075016015052\n",
            "Iteration 700, Cost: 3.1794626460910127\n",
            "Iteration 800, Cost: 2.9828091545253055\n",
            "Iteration 900, Cost: 2.812972558639048\n",
            "Optimized a0: 2.13798973698273, a1: 3.7511957152492426, a2: 6.68417051201927\n"
          ]
        }
      ],
      "source": [
        "# 1.2 สร้าง polynomial regression from scratch แล้ว run กำหนดให้อัตราการเรียนรู้ (learning rate) เท่ากับ 1e-3 และจำนวนรอบการวนซ้ำ (iteration) เท่ากับ 1000 รอบ\n",
        "alpha = 1e-3  # learning rate\n",
        "iterations = 1000  # iteration of Gradient Descent\n",
        "m = len(X_HW)\n",
        "\n",
        "# forward\n",
        "class PolyRegressionScratch:\n",
        "    \"\"\"\n",
        "    Custom implementation of linear regression using ordinary least squares (OLS).\n",
        "    \"\"\"\n",
        "    def __init__(self):\n",
        "        self.a2 = 1\n",
        "        self.a1 = 1\n",
        "        self.a0 = 1\n",
        "\n",
        "    def predict(self, x):\n",
        "        return self.a2 * x**2 + self.a1 * x + self.a0\n",
        "\n",
        "    # Cost function (MSE)\n",
        "    def compute_cost(self, X_HW, y_HW):\n",
        "        predictions = self.predict(X_HW)\n",
        "        cost = (1/(m)) * np.sum((predictions - y_HW)**2)\n",
        "        return cost\n",
        "\n",
        "    def fit(self, X_HW, y_HW):\n",
        "        # Gradient Descent\n",
        "        for _ in range(iterations):\n",
        "            predictions = self.predict(X_HW)\n",
        "            # gradient compute\n",
        "            dJ_da0 = (2/m) * np.sum(predictions - y_HW)\n",
        "            dJ_da1 = (2/m) * np.sum((predictions - y_HW) * X_HW)\n",
        "            dJ_da2 = (2/m) * np.sum((predictions - y_HW) * X_HW**2)\n",
        "            # parameter update\n",
        "            self.a0 -= alpha * dJ_da0\n",
        "            self.a1 -= alpha * dJ_da1\n",
        "            self.a2 -= alpha * dJ_da2\n",
        "            # cost compute if more iteration (optional)\n",
        "            if _ % 100 == 0:\n",
        "                print(f\"Iteration {_}, Cost: {self.compute_cost(X_HW=X_HW, y_HW=y_HW)}\")\n",
        "        \n",
        "        print(f\"Optimized a0: {self.a0}, a1: {self.a1}, a2: {self.a2}\")\n",
        "\n",
        "poly_reg_scratch = PolyRegressionScratch()\n",
        "poly_reg_scratch.fit(X_HW, y_HW)"
      ]
    },
    {
      "cell_type": "code",
      "execution_count": 289,
      "metadata": {},
      "outputs": [
        {
          "name": "stdout",
          "output_type": "stream",
          "text": [
            "[1.06174341] [1.06174341 1.12729908 1.19690237]\n"
          ]
        }
      ],
      "source": [
        "# 1.3 เเปลงข้อมูลเป็น extended โดยที่กำหนด power degree เอง และนำ extended dataset ไป fit กับโมเดล Linear Regressio\n",
        "from sklearn.preprocessing import PolynomialFeatures\n",
        "X_HW_reshape, y_HW_reshape = X_HW.reshape(-1, 1), y_HW.reshape(-1, 1) \n",
        "d = 3 #เเทนค่าด้วย Degree ที่ควรจะใช้\n",
        "poly_features = PolynomialFeatures(degree=d, include_bias=False)\n",
        "X_poly = poly_features.fit_transform(X_HW_reshape)\n",
        "print(X_HW_reshape[0], X_poly[0])\n"
      ]
    },
    {
      "cell_type": "code",
      "execution_count": 291,
      "metadata": {},
      "outputs": [
        {
          "data": {
            "text/plain": [
              "<matplotlib.legend.Legend at 0x17669e6f9d0>"
            ]
          },
          "execution_count": 291,
          "metadata": {},
          "output_type": "execute_result"
        },
        {
          "data": {
            "image/png": "[encoded data removed]",
            "text/plain": [
              "<Figure size 640x480 with 1 Axes>"
            ]
          },
          "metadata": {},
          "output_type": "display_data"
        }
      ],
      "source": [
        "# 1.4  เเเสดงผล plot จาก matplotlib.pyplot ตามโค้ดต่อไปนี้\n",
        "\n",
        "# Plot the data\n",
        "plt.plot(X_HW, y_HW, \"b.\", label='Sampling data')\n",
        "x = np.linspace(-3, 3, 1000).reshape(-1, 1)\n",
        "# x = np.linspace(min(X_HW), max(X_HW), 100).reshape(-1, 1) \n",
        "\n",
        "lin_reg_scratch = LinearRegressionScratch()\n",
        "lin_reg_scratch.fit(X_poly, y_HW_reshape)\n",
        "\n",
        "from sklearn.linear_model import LinearRegression\n",
        "lin_reg = LinearRegression()\n",
        "lin_reg.fit(X_poly, y_HW_reshape)\n",
        "\n",
        "# test \n",
        "y_linear = lin_reg_scratch.predict(poly_features.fit_transform(x))  # Linear regression (reshape x for compatibility)\n",
        "y_p2_sc = poly_reg_scratch.predict(x)\n",
        "y_p2_scikit = lin_reg.predict(poly_features.fit_transform(x))\n",
        "\n",
        "plt.plot(x, y_linear, \"y-.\", label='Lin-Reg fitting', linewidth=0.25)\n",
        "plt.plot(x, y_p2_sc, \"r--\", label='Poly-Reg (power=2) from my class function', linewidth=0.5)\n",
        "plt.plot(x, y_p2_scikit, \"g--\", label='Poly-Reg (power=2) Scikit-learn API', linewidth=0.75)\n",
        "# plt.title('LinearReg vs PolyReg (Scratch) vs PolyReg (Scikit)')\n",
        "plt.legend()"
      ]
    },
    {
      "cell_type": "code",
      "execution_count": 284,
      "metadata": {},
      "outputs": [
        {
          "name": "stdout",
          "output_type": "stream",
          "text": [
            "R² for Linear Regression: 0.9948\n",
            "R² for Polynomial Regression (Manual): 0.9787\n",
            "R² for Polynomial Regression (Scikit): 0.9975\n"
          ]
        }
      ],
      "source": [
        "# * 1.5 วัดผลความแปรปรวนของตัวแปรตามหรือความเข้ากันของระบบเชิงเส้นถดถอยที่ทำนายต่อตัวแปรตามจริงจากระบบวัด R-Squared (R^2 metric) จากทั้ง 3 สมการที่ทำนายพร้อมอธิบายความแตกต่างจากการวัดและแสดงผลที่เกิดขึ้น\n",
        "from sklearn.metrics import r2_score\n",
        "\n",
        "y_linear2 = lin_reg_scratch.predict(poly_features.fit_transform(X_HW))\n",
        "y_poly2 = poly_reg_scratch.predict(X_HW)\n",
        "y_scikit2 = lin_reg.predict(poly_features.fit_transform(X_HW))\n",
        "\n",
        "r2_linear = r2_score(y_HW, y_linear2)\n",
        "r2_poly = r2_score(y_HW, y_poly2)\n",
        "r2_scikit = r2_score(y_HW, y_scikit2)\n",
        "\n",
        "print(f\"R² for Linear Regression: {r2_linear:.4f}\")\n",
        "print(f\"R² for Polynomial Regression (Manual): {r2_poly:.4f}\")\n",
        "print(f\"R² for Polynomial Regression (Scikit): {r2_scikit:.4f}\")"
      ]
    }
  ],
  "metadata": {
    "colab": {
      "provenance": []
    },
    "kernelspec": {
      "display_name": "Python 3",
      "name": "python3"
    },
    "language_info": {
      "codemirror_mode": {
        "name": "ipython",
        "version": 3
      },
      "file_extension": ".py",
      "mimetype": "text/x-python",
      "name": "python",
      "nbconvert_exporter": "python",
      "pygments_lexer": "ipython3",
      "version": "3.13.0"
    }
  },
  "nbformat": 4,
  "nbformat_minor": 0
}
