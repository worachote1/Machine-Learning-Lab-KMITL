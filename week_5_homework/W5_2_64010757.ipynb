{
  "cells": [
    {
      "cell_type": "markdown",
      "metadata": {
        "id": "_waUfs_r_8Wf"
      },
      "source": [
        "# Import Section & Dataset"
      ]
    },
    {
      "cell_type": "code",
      "execution_count": 1,
      "metadata": {
        "colab": {
          "base_uri": "https://localhost:8080/"
        },
        "id": "9x3ZMXNKw4z-",
        "outputId": "14bc6225-fb8f-4092-a368-abe02b1da66b"
      },
      "outputs": [],
      "source": [
        "# !pip install ucimlrepo\n",
        "from ucimlrepo import fetch_ucirepo\n",
        "import numpy as np\n",
        "import pandas as pd\n",
        "import matplotlib as mpl\n",
        "import matplotlib.pyplot as plt\n",
        "import seaborn as sns\n",
        "%matplotlib inline"
      ]
    },
    {
      "cell_type": "code",
      "execution_count": 2,
      "metadata": {
        "id": "hZeqkJWQzPpy"
      },
      "outputs": [],
      "source": [
        "# fetch dataset\n",
        "wine = fetch_ucirepo(id=186)\n",
        "\n",
        "# data (as pandas dataframes)\n",
        "X = wine.data.features\n",
        "y = wine.data.targets"
      ]
    },
    {
      "cell_type": "code",
      "execution_count": 3,
      "metadata": {
        "colab": {
          "base_uri": "https://localhost:8080/",
          "height": 206
        },
        "id": "y262QGyEyMjo",
        "outputId": "f3e75954-ae59-450c-b128-3d66b5aaf0a6"
      },
      "outputs": [
        {
          "data": {
            "text/html": [
              "<div>\n",
              "<style scoped>\n",
              "    .dataframe tbody tr th:only-of-type {\n",
              "        vertical-align: middle;\n",
              "    }\n",
              "\n",
              "    .dataframe tbody tr th {\n",
              "        vertical-align: top;\n",
              "    }\n",
              "\n",
              "    .dataframe thead th {\n",
              "        text-align: right;\n",
              "    }\n",
              "</style>\n",
              "<table border=\"1\" class=\"dataframe\">\n",
              "  <thead>\n",
              "    <tr style=\"text-align: right;\">\n",
              "      <th></th>\n",
              "      <th>fixed_acidity</th>\n",
              "      <th>volatile_acidity</th>\n",
              "      <th>citric_acid</th>\n",
              "      <th>residual_sugar</th>\n",
              "      <th>chlorides</th>\n",
              "      <th>free_sulfur_dioxide</th>\n",
              "      <th>total_sulfur_dioxide</th>\n",
              "      <th>density</th>\n",
              "      <th>pH</th>\n",
              "      <th>sulphates</th>\n",
              "      <th>alcohol</th>\n",
              "    </tr>\n",
              "  </thead>\n",
              "  <tbody>\n",
              "    <tr>\n",
              "      <th>0</th>\n",
              "      <td>7.4</td>\n",
              "      <td>0.70</td>\n",
              "      <td>0.00</td>\n",
              "      <td>1.9</td>\n",
              "      <td>0.076</td>\n",
              "      <td>11.0</td>\n",
              "      <td>34.0</td>\n",
              "      <td>0.9978</td>\n",
              "      <td>3.51</td>\n",
              "      <td>0.56</td>\n",
              "      <td>9.4</td>\n",
              "    </tr>\n",
              "    <tr>\n",
              "      <th>1</th>\n",
              "      <td>7.8</td>\n",
              "      <td>0.88</td>\n",
              "      <td>0.00</td>\n",
              "      <td>2.6</td>\n",
              "      <td>0.098</td>\n",
              "      <td>25.0</td>\n",
              "      <td>67.0</td>\n",
              "      <td>0.9968</td>\n",
              "      <td>3.20</td>\n",
              "      <td>0.68</td>\n",
              "      <td>9.8</td>\n",
              "    </tr>\n",
              "    <tr>\n",
              "      <th>2</th>\n",
              "      <td>7.8</td>\n",
              "      <td>0.76</td>\n",
              "      <td>0.04</td>\n",
              "      <td>2.3</td>\n",
              "      <td>0.092</td>\n",
              "      <td>15.0</td>\n",
              "      <td>54.0</td>\n",
              "      <td>0.9970</td>\n",
              "      <td>3.26</td>\n",
              "      <td>0.65</td>\n",
              "      <td>9.8</td>\n",
              "    </tr>\n",
              "    <tr>\n",
              "      <th>3</th>\n",
              "      <td>11.2</td>\n",
              "      <td>0.28</td>\n",
              "      <td>0.56</td>\n",
              "      <td>1.9</td>\n",
              "      <td>0.075</td>\n",
              "      <td>17.0</td>\n",
              "      <td>60.0</td>\n",
              "      <td>0.9980</td>\n",
              "      <td>3.16</td>\n",
              "      <td>0.58</td>\n",
              "      <td>9.8</td>\n",
              "    </tr>\n",
              "    <tr>\n",
              "      <th>4</th>\n",
              "      <td>7.4</td>\n",
              "      <td>0.70</td>\n",
              "      <td>0.00</td>\n",
              "      <td>1.9</td>\n",
              "      <td>0.076</td>\n",
              "      <td>11.0</td>\n",
              "      <td>34.0</td>\n",
              "      <td>0.9978</td>\n",
              "      <td>3.51</td>\n",
              "      <td>0.56</td>\n",
              "      <td>9.4</td>\n",
              "    </tr>\n",
              "  </tbody>\n",
              "</table>\n",
              "</div>"
            ],
            "text/plain": [
              "   fixed_acidity  volatile_acidity  citric_acid  residual_sugar  chlorides  \\\n",
              "0            7.4              0.70         0.00             1.9      0.076   \n",
              "1            7.8              0.88         0.00             2.6      0.098   \n",
              "2            7.8              0.76         0.04             2.3      0.092   \n",
              "3           11.2              0.28         0.56             1.9      0.075   \n",
              "4            7.4              0.70         0.00             1.9      0.076   \n",
              "\n",
              "   free_sulfur_dioxide  total_sulfur_dioxide  density    pH  sulphates  \\\n",
              "0                 11.0                  34.0   0.9978  3.51       0.56   \n",
              "1                 25.0                  67.0   0.9968  3.20       0.68   \n",
              "2                 15.0                  54.0   0.9970  3.26       0.65   \n",
              "3                 17.0                  60.0   0.9980  3.16       0.58   \n",
              "4                 11.0                  34.0   0.9978  3.51       0.56   \n",
              "\n",
              "   alcohol  \n",
              "0      9.4  \n",
              "1      9.8  \n",
              "2      9.8  \n",
              "3      9.8  \n",
              "4      9.4  "
            ]
          },
          "execution_count": 3,
          "metadata": {},
          "output_type": "execute_result"
        }
      ],
      "source": [
        "X.head()"
      ]
    },
    {
      "cell_type": "code",
      "execution_count": 4,
      "metadata": {
        "colab": {
          "base_uri": "https://localhost:8080/",
          "height": 206
        },
        "id": "k8LixR_h7Bpv",
        "outputId": "5cc050aa-d169-4801-b896-bc8a3189f89e"
      },
      "outputs": [
        {
          "data": {
            "text/html": [
              "<div>\n",
              "<style scoped>\n",
              "    .dataframe tbody tr th:only-of-type {\n",
              "        vertical-align: middle;\n",
              "    }\n",
              "\n",
              "    .dataframe tbody tr th {\n",
              "        vertical-align: top;\n",
              "    }\n",
              "\n",
              "    .dataframe thead th {\n",
              "        text-align: right;\n",
              "    }\n",
              "</style>\n",
              "<table border=\"1\" class=\"dataframe\">\n",
              "  <thead>\n",
              "    <tr style=\"text-align: right;\">\n",
              "      <th></th>\n",
              "      <th>quality</th>\n",
              "    </tr>\n",
              "  </thead>\n",
              "  <tbody>\n",
              "    <tr>\n",
              "      <th>0</th>\n",
              "      <td>5</td>\n",
              "    </tr>\n",
              "    <tr>\n",
              "      <th>1</th>\n",
              "      <td>5</td>\n",
              "    </tr>\n",
              "    <tr>\n",
              "      <th>2</th>\n",
              "      <td>5</td>\n",
              "    </tr>\n",
              "    <tr>\n",
              "      <th>3</th>\n",
              "      <td>6</td>\n",
              "    </tr>\n",
              "    <tr>\n",
              "      <th>4</th>\n",
              "      <td>5</td>\n",
              "    </tr>\n",
              "  </tbody>\n",
              "</table>\n",
              "</div>"
            ],
            "text/plain": [
              "   quality\n",
              "0        5\n",
              "1        5\n",
              "2        5\n",
              "3        6\n",
              "4        5"
            ]
          },
          "execution_count": 4,
          "metadata": {},
          "output_type": "execute_result"
        }
      ],
      "source": [
        "y.head()"
      ]
    },
    {
      "cell_type": "code",
      "execution_count": 5,
      "metadata": {
        "id": "C7kIQwcJ7Wjr"
      },
      "outputs": [],
      "source": [
        "from sklearn.model_selection import train_test_split\n",
        "from sklearn.preprocessing import StandardScaler\n",
        "\n",
        "X_train, X_test, y_train, y_test = train_test_split(X, y, test_size=0.2, random_state=42)\n",
        "scaler = StandardScaler()\n",
        "\n",
        "X_train = scaler.fit_transform(X_train)\n",
        "X_test = scaler.transform(X_test)"
      ]
    },
    {
      "cell_type": "code",
      "execution_count": 6,
      "metadata": {
        "colab": {
          "base_uri": "https://localhost:8080/",
          "height": 455
        },
        "id": "X91Ftqrd7nUQ",
        "outputId": "5febb219-b6d7-437e-b443-42949125e5e9"
      },
      "outputs": [
        {
          "data": {
            "image/png": "[encoded data removed]",
            "text/plain": [
              "<Figure size 640x480 with 1 Axes>"
            ]
          },
          "metadata": {},
          "output_type": "display_data"
        }
      ],
      "source": [
        "from sklearn.decomposition import PCA\n",
        "pca = PCA().fit(X_train)\n",
        "plt.plot(range(1, len(pca.explained_variance_ratio_) + 1),\n",
        "         np.cumsum(pca.explained_variance_ratio_),\n",
        "         linestyle='-', marker='o')\n",
        "plt.grid(linestyle='-', linewidth=1)\n",
        "plt.xlim([0,11])\n",
        "plt.ylim([0,1])\n",
        "plt.xlabel('Number of components')\n",
        "plt.ylabel('Cumulative explained variance')\n",
        "plt.show()"
      ]
    },
    {
      "cell_type": "markdown",
      "metadata": {
        "id": "NIDksQ3A8yrg"
      },
      "source": [
        "Above graph show how much information will be retain with n Number of Component (For example 1 Component will retain 50% of original information)"
      ]
    },
    {
      "cell_type": "markdown",
      "metadata": {
        "id": "TkC3P0zqAOq8"
      },
      "source": [
        "# PCA From Scratch"
      ]
    },
    {
      "cell_type": "markdown",
      "metadata": {
        "id": "-upa11NhBjU2"
      },
      "source": [
        "First we find covariance manually or using numpy library"
      ]
    },
    {
      "cell_type": "code",
      "execution_count": 7,
      "metadata": {
        "colab": {
          "base_uri": "https://localhost:8080/"
        },
        "id": "Dw1ySe0jBAU8",
        "outputId": "4c647822-a253-4592-edaa-8c5e27b5ea63"
      },
      "outputs": [
        {
          "name": "stdout",
          "output_type": "stream",
          "text": [
            "Covariance matrix \n",
            "[[ 1.00019246e+00  2.20768677e-01  3.31819842e-01 -1.11126792e-01\n",
            "   2.94397356e-01 -2.89173560e-01 -3.37872629e-01  4.51578533e-01\n",
            "  -2.49218893e-01  2.99826509e-01 -8.70857105e-02]\n",
            " [ 2.20768677e-01  1.00019246e+00 -3.69985292e-01 -1.85237964e-01\n",
            "   3.78525054e-01 -3.59094519e-01 -4.10622496e-01  2.74701972e-01\n",
            "   2.55069740e-01  2.29155434e-01 -3.87649657e-02]\n",
            " [ 3.31819842e-01 -3.69985292e-01  1.00019246e+00  1.40327658e-01\n",
            "   4.72585493e-02  1.32026909e-01  1.84974484e-01  1.01625379e-01\n",
            "  -3.27753425e-01  6.43927266e-02 -1.03053044e-02]\n",
            " [-1.11126792e-01 -1.85237964e-01  1.40327658e-01  1.00019246e+00\n",
            "  -1.25509077e-01  4.02036938e-01  4.92157602e-01  5.62873810e-01\n",
            "  -2.65554169e-01 -1.86777350e-01 -3.65660721e-01]\n",
            " [ 2.94397356e-01  3.78525054e-01  4.72585493e-02 -1.25509077e-01\n",
            "   1.00019246e+00 -2.02476190e-01 -2.81903992e-01  3.58069280e-01\n",
            "   3.85424024e-02  4.03802289e-01 -2.50248520e-01]\n",
            " [-2.89173560e-01 -3.59094519e-01  1.32026909e-01  4.02036938e-01\n",
            "  -2.02476190e-01  1.00019246e+00  7.24439162e-01  2.25052524e-02\n",
            "  -1.51051530e-01 -2.00563579e-01 -1.83313074e-01]\n",
            " [-3.37872629e-01 -4.10622496e-01  1.84974484e-01  4.92157602e-01\n",
            "  -2.81903992e-01  7.24439162e-01  1.00019246e+00  3.28442488e-02\n",
            "  -2.33750474e-01 -2.84685133e-01 -2.73160889e-01]\n",
            " [ 4.51578533e-01  2.74701972e-01  1.01625379e-01  5.62873810e-01\n",
            "   3.58069280e-01  2.25052524e-02  3.28442488e-02  1.00019246e+00\n",
            "   1.28531183e-02  2.55659723e-01 -6.83692046e-01]\n",
            " [-2.49218893e-01  2.55069740e-01 -3.27753425e-01 -2.65554169e-01\n",
            "   3.85424024e-02 -1.51051530e-01 -2.33750474e-01  1.28531183e-02\n",
            "   1.00019246e+00  1.92537398e-01  1.15058016e-01]\n",
            " [ 2.99826509e-01  2.29155434e-01  6.43927266e-02 -1.86777350e-01\n",
            "   4.03802289e-01 -2.00563579e-01 -2.84685133e-01  2.55659723e-01\n",
            "   1.92537398e-01  1.00019246e+00  4.36628085e-05]\n",
            " [-8.70857105e-02 -3.87649657e-02 -1.03053044e-02 -3.65660721e-01\n",
            "  -2.50248520e-01 -1.83313074e-01 -2.73160889e-01 -6.83692046e-01\n",
            "   1.15058016e-01  4.36628085e-05  1.00019246e+00]]\n"
          ]
        }
      ],
      "source": [
        "mean_vec = np.mean(X_train, axis=0)\n",
        "cov_mat = (X_train - mean_vec).T.dot((X_train - mean_vec)) / (X_train.shape[0]-1)\n",
        "print('Covariance matrix \\n%s' %cov_mat)\n",
        "# print('NumPy covariance matrix: \\n%s' %np.cov(X_train.T)) # Using numpy built-in to find covariance"
      ]
    },
    {
      "cell_type": "markdown",
      "metadata": {
        "id": "gAUvsNFVB9ll"
      },
      "source": [
        "Visualization of Covariance Matrix"
      ]
    },
    {
      "cell_type": "code",
      "execution_count": 8,
      "metadata": {
        "colab": {
          "base_uri": "https://localhost:8080/",
          "height": 658
        },
        "id": "bDEyk0lZBf9Y",
        "outputId": "a73546a3-4a4e-4e21-bbd4-4a173c0519c5"
      },
      "outputs": [
        {
          "data": {
            "image/png": "[encoded data removed]",
            "text/plain": [
              "<Figure size 800x800 with 2 Axes>"
            ]
          },
          "metadata": {},
          "output_type": "display_data"
        }
      ],
      "source": [
        "plt.figure(figsize=(8,8))\n",
        "sns.heatmap(cov_mat, vmax=1, square=True,annot=True,cmap='cubehelix')\n",
        "\n",
        "plt.title('Correlation between different features')\n",
        "plt.show()"
      ]
    },
    {
      "cell_type": "markdown",
      "metadata": {
        "id": "Ikk2QD-LCUBZ"
      },
      "source": [
        "Then we will calculate eigen value and eigen vector with built-in numpy function"
      ]
    },
    {
      "cell_type": "code",
      "execution_count": 9,
      "metadata": {
        "colab": {
          "base_uri": "https://localhost:8080/"
        },
        "id": "Hdi_Yo5wCSzi",
        "outputId": "df075aa2-613b-4f2c-a0d7-90a329205ff5"
      },
      "outputs": [
        {
          "name": "stdout",
          "output_type": "stream",
          "text": [
            "Eigenvectors \n",
            "[[ 0.2443545   0.33062133 -0.43111007 -0.33087071 -0.17782952 -0.28483532\n",
            "   0.34044957  0.15485058  0.17529538  0.34396875  0.36601504]\n",
            " [ 0.37670505  0.12089292  0.31210914 -0.0839253  -0.22049429  0.15671361\n",
            "  -0.4862132  -0.16253674  0.49027907  0.38262108 -0.12748266]\n",
            " [-0.14113573  0.18766334 -0.59444432  0.00161509  0.26391015  0.23425413\n",
            "  -0.40020276  0.16766189 -0.20257358  0.321056   -0.36686124]\n",
            " [-0.34205543  0.33778128  0.159044   -0.45541379 -0.1695389  -0.0072009\n",
            "   0.1078311   0.33407079  0.26567355 -0.31098923 -0.46570625]\n",
            " [ 0.29149583  0.31265668  0.01516711 -0.04627194  0.25394745 -0.20012773\n",
            "   0.30439074 -0.61309035 -0.14911674 -0.01855949 -0.46824211]\n",
            " [-0.43505064  0.07064598  0.11784588 -0.00087501  0.35052152  0.47809834\n",
            "   0.37610308 -0.21506891  0.33057996  0.33663376  0.17347838]\n",
            " [-0.48760413  0.08770501  0.10239433  0.06503946  0.20854572 -0.71118932\n",
            "  -0.32252753 -0.15636852  0.14516366  0.16929793  0.1111051 ]\n",
            " [ 0.04384248  0.58436182  0.17611652  0.71580466 -0.07383349 -0.00370408\n",
            "   0.11675236  0.30442414 -0.01194284  0.0353995  -0.00630398]\n",
            " [ 0.21321871 -0.15505733  0.45669635 -0.20417652  0.41723609 -0.13798118\n",
            "   0.12878588  0.47362516 -0.27453074  0.3969179  -0.11529568]\n",
            " [ 0.29975176  0.18939323 -0.0700649  -0.07596083  0.63475752  0.04494086\n",
            "  -0.20869523  0.12074316  0.3061698  -0.48293358  0.27123011]\n",
            " [ 0.11059299 -0.4636078  -0.26262707  0.33146704  0.08981376 -0.20950237\n",
            "   0.25298052  0.1781292   0.54354242  0.03383845 -0.38694096]]\n",
            "\n",
            "Eigenvalues \n",
            "[3.03664377 2.49160763 1.56304341 0.03377963 0.96734294 0.22541942\n",
            " 0.33557371 0.72433665 0.60339737 0.52013499 0.50083751]\n"
          ]
        }
      ],
      "source": [
        "eig_vals, eig_vecs = np.linalg.eig(cov_mat)\n",
        "\n",
        "print('Eigenvectors \\n%s' %eig_vecs)\n",
        "print('\\nEigenvalues \\n%s' %eig_vals)"
      ]
    },
    {
      "cell_type": "markdown",
      "metadata": {
        "id": "O_wrhpRcFOvK"
      },
      "source": [
        "After that we will make pair of eigen vector and eigen value sorted by eigen value"
      ]
    },
    {
      "cell_type": "code",
      "execution_count": 10,
      "metadata": {
        "id": "NzJkpH-2FKe0"
      },
      "outputs": [],
      "source": [
        "eigen_pair = [[eig_vals[i] ,eig_vecs[:,i]] for i in range(len(eig_vals))]"
      ]
    },
    {
      "cell_type": "code",
      "execution_count": 11,
      "metadata": {
        "id": "zz9PTDaVF8L1"
      },
      "outputs": [],
      "source": [
        "eigen_pair.sort(key=lambda x : x[0], reverse=True)"
      ]
    },
    {
      "cell_type": "code",
      "execution_count": 12,
      "metadata": {
        "colab": {
          "base_uri": "https://localhost:8080/"
        },
        "id": "aAJJ_nB0GHr-",
        "outputId": "83c1f38a-63b7-43f1-8b61-4e1f65f33708"
      },
      "outputs": [
        {
          "data": {
            "text/plain": [
              "[[np.float64(3.0366437658031455),\n",
              "  array([ 0.2443545 ,  0.37670505, -0.14113573, -0.34205543,  0.29149583,\n",
              "         -0.43505064, -0.48760413,  0.04384248,  0.21321871,  0.29975176,\n",
              "          0.11059299])],\n",
              " [np.float64(2.4916076325976744),\n",
              "  array([ 0.33062133,  0.12089292,  0.18766334,  0.33778128,  0.31265668,\n",
              "          0.07064598,  0.08770501,  0.58436182, -0.15505733,  0.18939323,\n",
              "         -0.4636078 ])],\n",
              " [np.float64(1.5630434085710525),\n",
              "  array([-0.43111007,  0.31210914, -0.59444432,  0.159044  ,  0.01516711,\n",
              "          0.11784588,  0.10239433,  0.17611652,  0.45669635, -0.0700649 ,\n",
              "         -0.26262707])],\n",
              " [np.float64(0.967342935213499),\n",
              "  array([-0.17782952, -0.22049429,  0.26391015, -0.1695389 ,  0.25394745,\n",
              "          0.35052152,  0.20854572, -0.07383349,  0.41723609,  0.63475752,\n",
              "          0.08981376])],\n",
              " [np.float64(0.7243366489230026),\n",
              "  array([ 0.15485058, -0.16253674,  0.16766189,  0.33407079, -0.61309035,\n",
              "         -0.21506891, -0.15636852,  0.30442414,  0.47362516,  0.12074316,\n",
              "          0.1781292 ])],\n",
              " [np.float64(0.6033973713118375),\n",
              "  array([ 0.17529538,  0.49027907, -0.20257358,  0.26567355, -0.14911674,\n",
              "          0.33057996,  0.14516366, -0.01194284, -0.27453074,  0.3061698 ,\n",
              "          0.54354242])],\n",
              " [np.float64(0.5201349878370667),\n",
              "  array([ 0.34396875,  0.38262108,  0.321056  , -0.31098923, -0.01855949,\n",
              "          0.33663376,  0.16929793,  0.0353995 ,  0.3969179 , -0.48293358,\n",
              "          0.03383845])],\n",
              " [np.float64(0.5008375149356868),\n",
              "  array([ 0.36601504, -0.12748266, -0.36686124, -0.46570625, -0.46824211,\n",
              "          0.17347838,  0.1111051 , -0.00630398, -0.11529568,  0.27123011,\n",
              "         -0.38694096])],\n",
              " [np.float64(0.33557370605765513),\n",
              "  array([ 0.34044957, -0.4862132 , -0.40020276,  0.1078311 ,  0.30439074,\n",
              "          0.37610308, -0.32252753,  0.11675236,  0.12878588, -0.20869523,\n",
              "          0.25298052])],\n",
              " [np.float64(0.2254194168129362),\n",
              "  array([-0.28483532,  0.15671361,  0.23425413, -0.0072009 , -0.20012773,\n",
              "          0.47809834, -0.71118932, -0.00370408, -0.13798118,  0.04494086,\n",
              "         -0.20950237])],\n",
              " [np.float64(0.03377962502343708),\n",
              "  array([-0.33087071, -0.0839253 ,  0.00161509, -0.45541379, -0.04627194,\n",
              "         -0.00087501,  0.06503946,  0.71580466, -0.20417652, -0.07596083,\n",
              "          0.33146704])]]"
            ]
          },
          "execution_count": 12,
          "metadata": {},
          "output_type": "execute_result"
        }
      ],
      "source": [
        "eigen_pair"
      ]
    },
    {
      "cell_type": "markdown",
      "metadata": {
        "id": "AdmhNjebGerf"
      },
      "source": [
        "Calculate importance of vector"
      ]
    },
    {
      "cell_type": "code",
      "execution_count": 13,
      "metadata": {
        "colab": {
          "base_uri": "https://localhost:8080/"
        },
        "id": "G19z5lJmGMiZ",
        "outputId": "2979e408-79ab-4e68-93b0-adc77d478c7f"
      },
      "outputs": [
        {
          "name": "stdout",
          "output_type": "stream",
          "text": [
            "Eigen Vector 0 : 27.600540534072344%\n",
            "Eigen Vector 1 : 22.646620006258%\n",
            "Eigen Vector 2 : 14.206751361686262%\n",
            "Eigen Vector 3 : 8.792334548549581%\n",
            "Eigen Vector 4 : 6.583611572767365%\n",
            "Eigen Vector 5 : 5.484375148838152%\n",
            "Eigen Vector 6 : 4.727590037611554%\n",
            "Eigen Vector 7 : 4.552192222096362%\n",
            "Eigen Vector 8 : 3.0500830490940145%\n",
            "Eigen Vector 9 : 2.048873108191817%\n",
            "Eigen Vector 10 : 0.30702841083453564%\n"
          ]
        }
      ],
      "source": [
        "total = sum(eig_vals)\n",
        "for i, val in enumerate(eigen_pair):\n",
        "  print(f\"Eigen Vector {i} : {(val[0]/total)*100}%\")"
      ]
    },
    {
      "cell_type": "markdown",
      "metadata": {
        "id": "3deaG8UTIMy_"
      },
      "source": [
        "Finally we select how many Component we want (For example we want 6 component left from the original)"
      ]
    },
    {
      "cell_type": "code",
      "execution_count": 14,
      "metadata": {
        "colab": {
          "base_uri": "https://localhost:8080/"
        },
        "id": "gI3n-PwrIFK7",
        "outputId": "0b4c9462-d81a-4822-b050-70b859222c5b"
      },
      "outputs": [
        {
          "name": "stdout",
          "output_type": "stream",
          "text": [
            "94.59% of all information will be retain\n"
          ]
        }
      ],
      "source": [
        "def extractComponent(n_components, eigen_pair):\n",
        "  total = np.sum([pair[0] for pair in eigen_pair])\n",
        "  information_retain = np.sum([eigen_pair[i][0] for i in range(n_components)])\n",
        "  print(f\"{(information_retain / total) * 100:.2f}% of all information will be retain\")\n",
        "  len_max = len(eigen_pair[0][1])\n",
        "  w = np.hstack(tuple([eigen_pair[i][1].reshape(len_max,1) for i in range(n_components)]))\n",
        "  return w\n",
        "w = extractComponent(8, eigen_pair)"
      ]
    },
    {
      "cell_type": "code",
      "execution_count": 15,
      "metadata": {
        "colab": {
          "base_uri": "https://localhost:8080/"
        },
        "id": "EZvT3J6vLcym",
        "outputId": "cf0b5ccd-529f-4728-c2a9-10445f9d0797"
      },
      "outputs": [
        {
          "data": {
            "text/plain": [
              "array([[ 0.2443545 ,  0.33062133, -0.43111007, -0.17782952,  0.15485058,\n",
              "         0.17529538,  0.34396875,  0.36601504],\n",
              "       [ 0.37670505,  0.12089292,  0.31210914, -0.22049429, -0.16253674,\n",
              "         0.49027907,  0.38262108, -0.12748266],\n",
              "       [-0.14113573,  0.18766334, -0.59444432,  0.26391015,  0.16766189,\n",
              "        -0.20257358,  0.321056  , -0.36686124],\n",
              "       [-0.34205543,  0.33778128,  0.159044  , -0.1695389 ,  0.33407079,\n",
              "         0.26567355, -0.31098923, -0.46570625],\n",
              "       [ 0.29149583,  0.31265668,  0.01516711,  0.25394745, -0.61309035,\n",
              "        -0.14911674, -0.01855949, -0.46824211],\n",
              "       [-0.43505064,  0.07064598,  0.11784588,  0.35052152, -0.21506891,\n",
              "         0.33057996,  0.33663376,  0.17347838],\n",
              "       [-0.48760413,  0.08770501,  0.10239433,  0.20854572, -0.15636852,\n",
              "         0.14516366,  0.16929793,  0.1111051 ],\n",
              "       [ 0.04384248,  0.58436182,  0.17611652, -0.07383349,  0.30442414,\n",
              "        -0.01194284,  0.0353995 , -0.00630398],\n",
              "       [ 0.21321871, -0.15505733,  0.45669635,  0.41723609,  0.47362516,\n",
              "        -0.27453074,  0.3969179 , -0.11529568],\n",
              "       [ 0.29975176,  0.18939323, -0.0700649 ,  0.63475752,  0.12074316,\n",
              "         0.3061698 , -0.48293358,  0.27123011],\n",
              "       [ 0.11059299, -0.4636078 , -0.26262707,  0.08981376,  0.1781292 ,\n",
              "         0.54354242,  0.03383845, -0.38694096]])"
            ]
          },
          "execution_count": 15,
          "metadata": {},
          "output_type": "execute_result"
        }
      ],
      "source": [
        "w"
      ]
    },
    {
      "cell_type": "markdown",
      "metadata": {
        "id": "ZamEw6pXLuvC"
      },
      "source": [
        "After that we can apply matrix w to X_std to reduced dimension of all feature"
      ]
    },
    {
      "cell_type": "code",
      "execution_count": 16,
      "metadata": {
        "colab": {
          "base_uri": "https://localhost:8080/"
        },
        "id": "PPj-RfmqLd71",
        "outputId": "8e802b27-d9d5-465f-df7a-76138ee61f8b"
      },
      "outputs": [
        {
          "data": {
            "text/plain": [
              "array([[-1.41124626, -0.56091442, -0.02940485, ..., -0.30928183,\n",
              "         0.15343922, -0.23850244],\n",
              "       [ 2.39061574, -0.51213698, -1.96136284, ..., -0.3411601 ,\n",
              "        -0.21063189, -1.1604305 ],\n",
              "       [ 2.64855663, -1.10994882,  1.78412056, ...,  1.59545338,\n",
              "         0.71810452,  0.21501937],\n",
              "       ...,\n",
              "       [-1.06545328,  0.66104602,  1.50989241, ..., -0.04174814,\n",
              "         0.70189057, -0.229286  ],\n",
              "       [-2.05391365,  0.79029077, -0.1384217 , ..., -0.43087233,\n",
              "         0.49692392, -0.22761791],\n",
              "       [ 2.29884543,  0.40367349,  2.58407161, ..., -0.34506941,\n",
              "         0.5682948 ,  0.32398949]])"
            ]
          },
          "execution_count": 16,
          "metadata": {},
          "output_type": "execute_result"
        }
      ],
      "source": [
        "X_PCA_Scratch = X_train.dot(w)\n",
        "X_PCA_Scratch"
      ]
    },
    {
      "cell_type": "markdown",
      "metadata": {
        "id": "BtwAej9XApBB"
      },
      "source": [
        "# PCA From SciKit Learn API"
      ]
    },
    {
      "cell_type": "code",
      "execution_count": 17,
      "metadata": {
        "id": "i7-TkfdE7JlP"
      },
      "outputs": [],
      "source": [
        "from sklearn.decomposition import PCA\n",
        "sklearn_pca = PCA(n_components=6)\n",
        "X_PCA_Scikit = sklearn_pca.fit_transform(X_train)"
      ]
    },
    {
      "cell_type": "code",
      "execution_count": 18,
      "metadata": {
        "colab": {
          "base_uri": "https://localhost:8080/"
        },
        "id": "Wdxfr0ltApNU",
        "outputId": "6829ce7b-f5cc-44f1-b1ad-ab8d50f9d03c"
      },
      "outputs": [
        {
          "data": {
            "text/plain": [
              "array([[ 1.41124626, -0.56091442,  0.02940485, -0.54418653, -0.23237356,\n",
              "        -0.30928183],\n",
              "       [-2.39061574, -0.51213698,  1.96136284,  0.38088506, -0.50161755,\n",
              "        -0.3411601 ],\n",
              "       [-2.64855663, -1.10994882, -1.78412056, -0.43646606,  0.15803717,\n",
              "         1.59545338],\n",
              "       ...,\n",
              "       [ 1.06545328,  0.66104602, -1.50989241,  0.70734618,  2.07057489,\n",
              "        -0.04174814],\n",
              "       [ 2.05391365,  0.79029077,  0.1384217 ,  0.5698339 ,  0.19319462,\n",
              "        -0.43087233],\n",
              "       [-2.29884543,  0.40367349, -2.58407161, -0.3712069 , -0.13622073,\n",
              "        -0.34506941]])"
            ]
          },
          "execution_count": 18,
          "metadata": {},
          "output_type": "execute_result"
        }
      ],
      "source": [
        "X_PCA_Scikit"
      ]
    },
    {
      "cell_type": "markdown",
      "metadata": {
        "id": "9wFfbMBtAtw7"
      },
      "source": [
        "# Uses"
      ]
    },
    {
      "cell_type": "code",
      "execution_count": 19,
      "metadata": {
        "id": "78YWIAN9PCcz"
      },
      "outputs": [],
      "source": [
        "import time\n",
        "from sklearn.ensemble import RandomForestClassifier\n",
        "from sklearn.metrics import classification_report\n",
        "def applyrandomforest(trainX, testX, trainY, testY):\n",
        "    \"\"\"\n",
        "    Apply Random Forest on input dataset.\n",
        "    \"\"\"\n",
        "    start = time.process_time()\n",
        "    forest = RandomForestClassifier(n_estimators=700, max_features='sqrt', max_depth=15)\n",
        "    forest.fit(trainX, trainY)\n",
        "    print(\"Time Elapsed: %s secs\" % (time.process_time() - start))\n",
        "    prediction = forest.predict(testX)\n",
        "    print(\"Classification Report after applying Random Forest: \")\n",
        "    print(\"----------------------------------------------------\")\n",
        "    print(classification_report(testY, prediction))"
      ]
    },
    {
      "cell_type": "code",
      "execution_count": 20,
      "metadata": {
        "colab": {
          "base_uri": "https://localhost:8080/"
        },
        "id": "Xztm_YUWPkZI",
        "outputId": "85d12b85-da4a-4509-c8f5-8232835ea4c9"
      },
      "outputs": [
        {
          "name": "stdout",
          "output_type": "stream",
          "text": [
            "Time Elapsed: 5.78125 secs\n",
            "Classification Report after applying Random Forest: \n",
            "----------------------------------------------------\n",
            "              precision    recall  f1-score   support\n",
            "\n",
            "           3       0.00      0.00      0.00         6\n",
            "           4       0.80      0.09      0.17        43\n",
            "           5       0.67      0.72      0.70       402\n",
            "           6       0.66      0.77      0.71       597\n",
            "           7       0.73      0.54      0.62       215\n",
            "           8       0.92      0.33      0.49        36\n",
            "           9       0.00      0.00      0.00         1\n",
            "\n",
            "    accuracy                           0.68      1300\n",
            "   macro avg       0.54      0.35      0.38      1300\n",
            "weighted avg       0.68      0.68      0.66      1300\n",
            "\n",
            "Time Elapsed: 7.34375 secs\n",
            "Classification Report after applying Random Forest: \n",
            "----------------------------------------------------\n",
            "              precision    recall  f1-score   support\n",
            "\n",
            "           3       0.00      0.00      0.00         6\n",
            "           4       0.83      0.12      0.20        43\n",
            "           5       0.69      0.72      0.70       402\n",
            "           6       0.67      0.79      0.72       597\n",
            "           7       0.73      0.53      0.61       215\n",
            "           8       0.92      0.33      0.49        36\n",
            "           9       0.00      0.00      0.00         1\n",
            "\n",
            "    accuracy                           0.69      1300\n",
            "   macro avg       0.55      0.36      0.39      1300\n",
            "weighted avg       0.69      0.69      0.67      1300\n",
            "\n"
          ]
        }
      ],
      "source": [
        "import warnings\n",
        "warnings.filterwarnings(\"ignore\")\n",
        "X_PCA_Scikit_test = sklearn_pca.transform(X_test)\n",
        "# Normal Dataset\n",
        "applyrandomforest(X_train, X_test, y_train, y_test)\n",
        "# PCA Dataset\n",
        "applyrandomforest(X_PCA_Scikit, X_PCA_Scikit_test, y_train, y_test)"
      ]
    },
    {
      "cell_type": "markdown",
      "metadata": {
        "id": "NNd3w0sFRMl3"
      },
      "source": [
        "PCA is often applied to\n",
        "\n",
        "1. Reduce Computing Time\n",
        "2. Generalize Data (Reduce Overfitting)"
      ]
    },
    {
      "cell_type": "markdown",
      "metadata": {
        "id": "YvCBoSTW4ZDU"
      },
      "source": [
        "# Homework\n",
        "\n",
        "จาก Mushroom Dataset ที่กำหนด จงใช้ PCA เพื่อลดจำนวน features ของใน dataset นี้ลง และบันทึกผลการทดลองปรับจำนวน features ลดลงที่ต่างกันมาอย่างน้อย 5 จำนวน\n",
        "\n",
        "สรุปผลการทดลองปรับ Mushroom Dataset\n",
        " 1. นี้มีจำนวน features ทั้งหมดเท่าใด\n",
        " 2. ลดจำนวน features เป็น components จำนวนทั้งหมดเท่าใดจึงจะทำให้มีค่า accuracy ลดลงไม่ต่ำเกินกว่า 5%, 10% และ 15% จากค่า base accuracy และได้ค่า accuracy ใหม่เป็นเท่าใด\n",
        " 3. หากใช้จำนวน components = 5 จะมีค่า explained variance ทั้งหมดเป็นกี่เปอร์เซ็นต์ของ dataset นี้\n",
        " 4. หากลดลงเป็นจำนวน components = 4 จะสูญเสียข้อมูลกี่เปอร์เซ็นต์จากที่ใช้จำนวน components = 5\n",
        "\n",
        "``` python\n",
        "# /// homework code for ML-based practice of PCA ///\n",
        "mushroom = pd.read_csv('https://archive.ics.uci.edu/static/public/73/data.csv').dropna()\n",
        "mushroom.head()\n",
        "\n",
        "# poisonous column is the label (edible=e, poisonous=p)\n",
        "pd.unique(mushroom['poisonous'])\n",
        "\n",
        "X = mushroom.drop(columns='poisonous')\n",
        "y = mushroom['poisonous']\n",
        "pd.unique(y)\n",
        "\n",
        "# ...Your code transform to less dimensional data...\n",
        "# ...\n",
        "# ...\n",
        "# ...\n",
        "\n",
        "# Observing PCA variance ratio effects\n",
        "from sklearn.decomposition import PCA\n",
        "pca = PCA().fit(X_train)\n",
        "\n",
        "def plot_variance_ratio(pca):\n",
        "  plt.plot(range(1, len(pca.explained_variance_ratio_) + 1),\n",
        "          np.cumsum(pca.explained_variance_ratio_),\n",
        "          linestyle='-', marker='o')\n",
        "  plt.grid(linestyle='-', linewidth=1)\n",
        "  plt.xlim([0,21])\n",
        "  plt.ylim([0,1])\n",
        "  plt.xlabel('Number of components')\n",
        "  plt.ylabel('Cumulative explained variance')\n",
        "  plt.show()\n",
        "\n",
        "plot_variance_ratio(pca)\n",
        "\n",
        "pca_variance_ratio = pca.explained_variance_ratio_\n",
        "print(pca_variance_ratio)\n",
        "print('Number of components:', len(pca_variance_ratio))\n",
        "\n",
        "# ... Your code to predict through logistic regression ...\n",
        "# ...\n",
        "# ...\n",
        "# ...\n",
        "\n",
        "\n",
        "\n",
        "  ```"
      ]
    },
    {
      "cell_type": "markdown",
      "metadata": {},
      "source": [
        "1. นี้มีจำนวน features ทั้งหมดเท่าใด"
      ]
    },
    {
      "cell_type": "code",
      "execution_count": 21,
      "metadata": {},
      "outputs": [
        {
          "name": "stdout",
          "output_type": "stream",
          "text": [
            "features ทั้งหมด: ['cap-shape', 'cap-surface', 'cap-color', 'bruises', 'odor', 'gill-attachment', 'gill-spacing', 'gill-size', 'gill-color', 'stalk-shape', 'stalk-root', 'stalk-surface-above-ring', 'stalk-surface-below-ring', 'stalk-color-above-ring', 'stalk-color-below-ring', 'veil-type', 'veil-color', 'ring-number', 'ring-type', 'spore-print-color', 'population', 'habitat']\n",
            "จํานวน features ทั้งหมด: 22\n"
          ]
        }
      ],
      "source": [
        "from sklearn.preprocessing import LabelEncoder\n",
        "\n",
        "mushroom = pd.read_csv('https://archive.ics.uci.edu/static/public/73/data.csv').dropna()\n",
        "\n",
        "\n",
        "# encode all features\n",
        "for cur_col in mushroom.columns:\n",
        "    cur_le = LabelEncoder()\n",
        "    mushroom[cur_col] = cur_le.fit_transform(mushroom[cur_col])\n",
        "\n",
        "# encode labels\n",
        "mushroom['poisonous'] = LabelEncoder().fit_transform(mushroom['poisonous'])\n",
        "\n",
        "X = mushroom.drop(columns='poisonous')\n",
        "y = mushroom['poisonous']\n",
        "\n",
        "print(\"features ทั้งหมด: %s\" % (list(X.columns)))\n",
        "\n",
        "len_X = len(list(X.columns))\n",
        "print(\"จํานวน features ทั้งหมด: %s\" % (len_X))"
      ]
    },
    {
      "cell_type": "markdown",
      "metadata": {},
      "source": [
        "2. ลดจำนวน features เป็น components จำนวนทั้งหมดเท่าใดจึงจะทำให้มีค่า accuracy ลดลงไม่ต่ำเกินกว่า 5%, 10% และ 15% จากค่า base accuracy และได้ค่า accuracy ใหม่เป็นเท่าใด"
      ]
    },
    {
      "cell_type": "code",
      "execution_count": 22,
      "metadata": {},
      "outputs": [
        {
          "name": "stdout",
          "output_type": "stream",
          "text": [
            "base accuracy: 0.970770593445527\n",
            "\n",
            "การลดจํานวน feature เป็น component แล้วได้ค่า accuracy ลดลงไม่ตํ่ากว่า 5% จาก based accuracy มีดังนี้\n",
            "n_component: 14 | accuracy: 0.8742249778565102\n",
            "\n",
            "การลดจํานวน feature เป็น component แล้วได้ค่า accuracy ลดลงไม่ตํ่ากว่า 10% จาก based accuracy มีดังนี้\n",
            "n_component: 2 | accuracy: 0.8432240921169176\n",
            "n_component: 5 | accuracy: 0.83348095659876\n",
            "n_component: 6 | accuracy: 0.829052258635961\n",
            "n_component: 7 | accuracy: 0.829052258635961\n",
            "n_component: 8 | accuracy: 0.8387953941541186\n",
            "n_component: 9 | accuracy: 0.8387953941541186\n",
            "n_component: 10 | accuracy: 0.8609388839681134\n",
            "n_component: 11 | accuracy: 0.8556244464127547\n",
            "n_component: 12 | accuracy: 0.8724534986713907\n",
            "n_component: 13 | accuracy: 0.8715677590788308\n",
            "\n",
            "การลดจํานวน feature เป็น component แล้วได้ค่า accuracy ลดลงไม่ตํ่ากว่า 15% จาก based accuracy มีดังนี้\n",
            "n_component: 1 | accuracy: 0.7360496014171833\n",
            "n_component: 3 | accuracy: 0.8139946855624446\n",
            "n_component: 4 | accuracy: 0.8201948627103631\n"
          ]
        }
      ],
      "source": [
        "from sklearn.linear_model import LogisticRegression\n",
        "from sklearn.metrics import accuracy_score\n",
        "\n",
        "# find base accuracy\n",
        "X_train, X_test, y_train, y_test = train_test_split(X, y, test_size=0.20, random_state=23)\n",
        "model = LogisticRegression(random_state=0)\n",
        "model.fit(X_train, y_train)\n",
        "y_pred = model.predict(X_test)\n",
        "base_acc = accuracy_score(y_test, y_pred)\n",
        "print(f\"base accuracy: {base_acc}\")\n",
        "\n",
        "\n",
        "n_feature = 22\n",
        "\n",
        "res_comp_acc = {\n",
        "    \"less_5%_base_acc\": [], # 5% of base_acc: 0.04853852967227635\n",
        "    \"less_10%_base_acc\": [], # 10% of base_acc: 0.0970770593445527\n",
        "    \"less_15%_base_acc\": [] # 15% of base_acc: 0.14561558901682903\n",
        "}\n",
        "\n",
        "for i in range(1, n_feature+1):\n",
        "    cur_PCA = PCA(n_components=i)\n",
        "    cur_X_train_PCA = cur_PCA.fit_transform(X_train)\n",
        "    cur_X_test_PCA = cur_PCA.transform(X_test)\n",
        "\n",
        "    cur_model = LogisticRegression(random_state=0)\n",
        "    cur_model.fit(cur_X_train_PCA, y_train)\n",
        "    cur_y_pred = cur_model.predict(cur_X_test_PCA)\n",
        "    cur_acc = accuracy_score(y_test, cur_y_pred)\n",
        "    \n",
        "    # 15% of base_acc: 0.14561558901682903\n",
        "    if(base_acc - cur_acc >= 0.15 * base_acc):\n",
        "        res_comp_acc[\"less_15%_base_acc\"].append((i, cur_acc))\n",
        "    \n",
        "    # 10% of base_acc: 0.0970770593445527\n",
        "    elif(base_acc - cur_acc >= 0.1 * base_acc):\n",
        "        res_comp_acc[\"less_10%_base_acc\"].append((i, cur_acc))\n",
        "    \n",
        "    # 5% of base_acc: 0.04853852967227635\n",
        "    elif(base_acc - cur_acc >= 0.05 * base_acc):\n",
        "        res_comp_acc[\"less_5%_base_acc\"].append((i, cur_acc))\n",
        "\n",
        "print(\"\\nการลดจํานวน feature เป็น component แล้วได้ค่า accuracy ลดลงไม่ตํ่ากว่า 5% จาก based accuracy มีดังนี้\")\n",
        "for cur_component, cur_acc in res_comp_acc[\"less_5%_base_acc\"]:\n",
        "    print(f\"n_component: {cur_component} | accuracy: {cur_acc}\")\n",
        "\n",
        "print(\"\\nการลดจํานวน feature เป็น component แล้วได้ค่า accuracy ลดลงไม่ตํ่ากว่า 10% จาก based accuracy มีดังนี้\")\n",
        "for cur_component, cur_acc in res_comp_acc[\"less_10%_base_acc\"]:\n",
        "    print(f\"n_component: {cur_component} | accuracy: {cur_acc}\")\n",
        "\n",
        "print(\"\\nการลดจํานวน feature เป็น component แล้วได้ค่า accuracy ลดลงไม่ตํ่ากว่า 15% จาก based accuracy มีดังนี้\")\n",
        "for cur_component, cur_acc in res_comp_acc[\"less_15%_base_acc\"]:\n",
        "    print(f\"n_component: {cur_component} | accuracy: {cur_acc}\")"
      ]
    },
    {
      "cell_type": "markdown",
      "metadata": {},
      "source": [
        " 3. หากใช้จำนวน components = 5 จะมีค่า explained variance ทั้งหมดเป็นกี่เปอร์เซ็นต์ของ dataset นี้"
      ]
    },
    {
      "cell_type": "code",
      "execution_count": 23,
      "metadata": {},
      "outputs": [
        {
          "name": "stdout",
          "output_type": "stream",
          "text": [
            "หากใช้จำนวน components = 5 จะมีค่า explained variance ทั้งหมดเป็น 70.73 % ของ dataset นี้\n"
          ]
        }
      ],
      "source": [
        "n_component = 5\n",
        "pca_n_5 = PCA(n_component)\n",
        "pca_n_5.fit(X_train)\n",
        "print(f\"หากใช้จำนวน components = 5 จะมีค่า explained variance ทั้งหมดเป็น {sum(pca_n_5.explained_variance_ratio_*100):.2f} % ของ dataset นี้\")"
      ]
    },
    {
      "cell_type": "markdown",
      "metadata": {},
      "source": [
        "4. หากลดลงเป็นจำนวน components = 4 จะสูญเสียข้อมูลกี่เปอร์เซ็นต์จากที่ใช้จำนวน components = 5"
      ]
    },
    {
      "cell_type": "code",
      "execution_count": 24,
      "metadata": {},
      "outputs": [
        {
          "name": "stdout",
          "output_type": "stream",
          "text": [
            "หากลดลงเป็นจำนวน components = 4 จะสูญเสียข้อมูล 11.06% จากที่ใช้จำนวน components = 5\n"
          ]
        }
      ],
      "source": [
        "pca_n_4 = PCA(4)\n",
        "pca_n_4.fit(X_train)\n",
        "\n",
        "sum_pca_n_5_var_ratio = sum(pca_n_5.explained_variance_ratio_)\n",
        "sum_pca_n_4_var_ratio = sum(pca_n_4.explained_variance_ratio_)\n",
        "res = (sum_pca_n_5_var_ratio- sum_pca_n_4_var_ratio) * 100 / sum_pca_n_5_var_ratio\n",
        "print(f\"หากลดลงเป็นจำนวน components = 4 จะสูญเสียข้อมูล {res:.2f}% จากที่ใช้จำนวน components = 5\")\n"
      ]
    },
    {
      "cell_type": "code",
      "execution_count": null,
      "metadata": {},
      "outputs": [],
      "source": []
    }
  ],
  "metadata": {
    "colab": {
      "provenance": []
    },
    "kernelspec": {
      "display_name": "Python 3",
      "name": "python3"
    },
    "language_info": {
      "codemirror_mode": {
        "name": "ipython",
        "version": 3
      },
      "file_extension": ".py",
      "mimetype": "text/x-python",
      "name": "python",
      "nbconvert_exporter": "python",
      "pygments_lexer": "ipython3",
      "version": "3.13.0"
    }
  },
  "nbformat": 4,
  "nbformat_minor": 0
}
