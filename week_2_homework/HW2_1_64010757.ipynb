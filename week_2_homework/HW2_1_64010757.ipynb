{
  "cells": [
    {
      "cell_type": "markdown",
      "metadata": {
        "id": "vSksbDcRcZx5"
      },
      "source": [
        "* 1.1 สร้าง linear regression from scratch แล้ว run แค่เพียง inference (no update)"
      ]
    },
    {
      "cell_type": "code",
      "execution_count": 152,
      "metadata": {
        "colab": {
          "base_uri": "https://localhost:8080/"
        },
        "id": "sPqmpkSPcY44",
        "outputId": "26cbb36b-35e6-41b5-ab73-9ea0a67f34ad"
      },
      "outputs": [],
      "source": [
        "import numpy as np\n",
        "\n",
        "class LinearRegressionScratch:\n",
        "   def __init__(self):\n",
        "       self.coef_ = None\n",
        "       self.intercept_ = None\n",
        "\n",
        "   def fit(self, X, y):\n",
        "       # Calculate coefficients using the closed-form solution\n",
        "       self.coef_ = np.dot(np.linalg.inv(np.dot(X.T, X)), np.dot(X.T, y))\n",
        "       self.intercept_ = np.mean(y - np.dot(X, self.coef_))\n",
        "\n",
        "   def predict(self, X):\n",
        "       return np.dot(X, self.coef_) + self.intercept_\n",
        "\n",
        "m = 1 # Noise Magnitude\n",
        "X_HW = 2 * np.random.rand(100, 1)\n",
        "y_HW = 3 * (X_HW ** 3) + 2 * (X_HW ** 2) + 3 * (X_HW ** 1) + 4 + ((np.random.rand(100, 1) - 1) * 2 * m)\n"
      ]
    },
    {
      "cell_type": "markdown",
      "metadata": {
        "id": "z_pmmUDRjxid"
      },
      "source": [
        "* 1.2 สร้าง polynomial regression from scratch แล้ว run กำหนดให้อัตราการเรียนรู้ (learning rate) เท่ากับ 1e-3 และจำนวนรอบการวนซ้ำ (iteration) เท่ากับ 1000 รอบ"
      ]
    },
    {
      "cell_type": "code",
      "execution_count": 153,
      "metadata": {
        "colab": {
          "base_uri": "https://localhost:8080/"
        },
        "id": "RqrEwfwBekT8",
        "outputId": "7d85bde7-de66-4611-c324-c42bf390f8f4"
      },
      "outputs": [
        {
          "name": "stdout",
          "output_type": "stream",
          "text": [
            "Iteration 0, Cost: 145.98993741473453\n",
            "Iteration 100, Cost: 33.776080849892296\n",
            "Iteration 200, Cost: 10.07820385897172\n",
            "Iteration 300, Cost: 4.926379205652501\n",
            "Iteration 400, Cost: 3.6806593893490978\n",
            "Iteration 500, Cost: 3.2749871593340028\n",
            "Iteration 600, Cost: 3.0647427123096227\n",
            "Iteration 700, Cost: 2.9122667863462044\n",
            "Iteration 800, Cost: 2.78634584120645\n",
            "Iteration 900, Cost: 2.678378970010415\n",
            "Optimized a0: 2.561882455299627, a1: 3.8347379104587036, a2: 6.31412019152888\n"
          ]
        }
      ],
      "source": [
        "# param init\n",
        "alpha = 1e-3  # learning rate\n",
        "iterations = 1000  # iteration of Gradient Descent\n",
        "m = len(X_HW)\n",
        "\n",
        "# forward\n",
        "class PolyRegressionScratch:\n",
        "    \"\"\"\n",
        "    Custom implementation of linear regression using ordinary least squares (OLS).\n",
        "    \"\"\"\n",
        "    def __init__(self):\n",
        "        self.a2 = 1\n",
        "        self.a1 = 1\n",
        "        self.a0 = 1\n",
        "\n",
        "    def predict(self, x):\n",
        "        return self.a2 * x**2 + self.a1 * x + self.a0\n",
        "\n",
        "    # Cost function (MSE)\n",
        "    def compute_cost(self, X_HW, y_HW):\n",
        "        predictions = self.predict(X_HW)\n",
        "        cost = (1/(m)) * np.sum((predictions - y_HW)**2)\n",
        "        return cost\n",
        "\n",
        "    def fit(self, X_HW, y_HW):\n",
        "        # Gradient Descent\n",
        "        for _ in range(iterations):\n",
        "            predictions = self.predict(X_HW)\n",
        "            # gradient compute\n",
        "            dJ_da0 = (2/m) * np.sum(predictions - y_HW)\n",
        "            dJ_da1 = (2/m) * np.sum((predictions - y_HW) * X_HW)\n",
        "            dJ_da2 = (2/m) * np.sum((predictions - y_HW) * X_HW**2)\n",
        "            # parameter update\n",
        "            self.a0 -= alpha * dJ_da0\n",
        "            self.a1 -= alpha * dJ_da1\n",
        "            self.a2 -= alpha * dJ_da2\n",
        "            # cost compute if more iteration (optional)\n",
        "            if _ % 100 == 0:\n",
        "                print(f\"Iteration {_}, Cost: {self.compute_cost(X_HW=X_HW, y_HW=y_HW)}\")\n",
        "        \n",
        "        print(f\"Optimized a0: {self.a0}, a1: {self.a1}, a2: {self.a2}\")\n",
        "\n",
        "poly_reg_scratch = PolyRegressionScratch()\n",
        "poly_reg_scratch.fit(X_HW, y_HW)"
      ]
    },
    {
      "cell_type": "markdown",
      "metadata": {
        "id": "JxqfPfE4rsk7"
      },
      "source": []
    },
    {
      "cell_type": "markdown",
      "metadata": {
        "id": "tBH49az_r0UI"
      },
      "source": [
        "* 1.3 เเปลงข้อมูลเป็น extended โดยที่กำหนด power degree เอง และนำ extended dataset ไป fit กับโมเดล Linear Regression"
      ]
    },
    {
      "cell_type": "code",
      "execution_count": 154,
      "metadata": {
        "colab": {
          "base_uri": "https://localhost:8080/"
        },
        "id": "Rhh8zautr5xa",
        "outputId": "f1440b42-9043-4d89-bff9-e2dbf155252c"
      },
      "outputs": [
        {
          "name": "stdout",
          "output_type": "stream",
          "text": [
            "[1.24269658] [1.24269658 1.54429479 1.91908985]\n",
            "[3.32277342] [[2.75192532 1.7342614  3.19231612]]\n",
            "-0.4580682706841081 [[14.60387522]]\n"
          ]
        }
      ],
      "source": [
        "from sklearn.preprocessing import PolynomialFeatures\n",
        "d = 3 #เเทนค่าด้วย Degree ที่ควรจะใช้\n",
        "poly_features = PolynomialFeatures(degree=d, include_bias=False)\n",
        "X_poly = poly_features.fit_transform(X_HW)\n",
        "print(X_HW[0], X_poly[0])\n",
        "\n",
        "from sklearn.linear_model import LinearRegression\n",
        "# fit with Linear Regression from scikit-learn\n",
        "model = LinearRegression() \n",
        "model.fit(X_poly,y_HW)\n",
        "y_p2_scikit = model.predict(X_poly)\n",
        "print(model.intercept_, model.coef_)\n",
        "\n",
        "# fit with Linear Regression(from Scratch)\n",
        "lin_reg_scratch = LinearRegressionScratch()\n",
        "lin_reg_scratch.fit(X_HW, y_HW)\n",
        "print(lin_reg_scratch.intercept_, lin_reg_scratch.coef_)"
      ]
    },
    {
      "cell_type": "markdown",
      "metadata": {
        "id": "2Ol9n9FGs9sR"
      },
      "source": [
        "* 1.4 เเเสดงผล plot จาก matplotlib.pyplot ตามโค้ดต่อไปนี้"
      ]
    },
    {
      "cell_type": "code",
      "execution_count": 155,
      "metadata": {
        "colab": {
          "base_uri": "https://localhost:8080/",
          "height": 470
        },
        "id": "XoBGR4Rds_jY",
        "outputId": "2eab333d-a503-4579-fd04-60033cfa4937"
      },
      "outputs": [
        {
          "data": {
            "text/plain": [
              "<matplotlib.legend.Legend at 0x1d6824b9e50>"
            ]
          },
          "execution_count": 155,
          "metadata": {},
          "output_type": "execute_result"
        },
        {
          "data": {
            "image/png": "[encoded data removed]",
            "text/plain": [
              "<Figure size 640x480 with 1 Axes>"
            ]
          },
          "metadata": {},
          "output_type": "display_data"
        }
      ],
      "source": [
        "import matplotlib.pyplot as plt\n",
        "\n",
        "# Plot the data\n",
        "plt.plot(X_HW, y_HW, \"b.\", label='Sampling data')\n",
        "x = np.linspace(-3, 3, 1000).reshape(-1, 1)\n",
        "\n",
        "\n",
        "y_pred_linear_sc = lin_reg_scratch.predict(x)\n",
        "y_pred_poly_sc = poly_reg_scratch.predict(x)\n",
        "y_pred_linear_scikit = model.predict(poly_features.fit_transform(x))\n",
        "#...linear and non-linear equation สำหรับพล็อตเส้นถดถอย ????...\n",
        "\n",
        "plt.plot(x, y_pred_linear_sc, \"y-.\", label='Lin-Reg fitting', linewidth=0.25)\n",
        "plt.plot(x, y_pred_poly_sc, \"r--\", label='Poly-Reg (power=2) from my class function', linewidth=0.5)\n",
        "plt.plot(x, y_pred_linear_scikit, \"g--\", label='Poly-Reg (power=2) Scikit-learn API', linewidth=0.75)\n",
        "plt.title('LinearReg vs PolyReg (Scratch) vs PolyReg (Scikit)')\n",
        "plt.legend()"
      ]
    },
    {
      "cell_type": "markdown",
      "metadata": {
        "id": "xvYLIrli7UlQ"
      },
      "source": [
        "* 1.5 วัดผลความแปรปรวนของตัวแปรตามหรือความเข้ากันของระบบเชิงเส้นถดถอยที่ทำนายต่อตัวแปรตามจริงจากระบบวัด R-Squared (R^2 metric) จากทั้ง 3 สมการที่ทำนายพร้อมอธิบายความแตกต่างจากการวัดและแสดงผลที่เกิดขึ้น"
      ]
    },
    {
      "cell_type": "code",
      "execution_count": 156,
      "metadata": {
        "colab": {
          "base_uri": "https://localhost:8080/"
        },
        "id": "4YR29jLj7T_4",
        "outputId": "27dba176-c6cd-4cd4-cc64-1281426ff4f4"
      },
      "outputs": [
        {
          "name": "stdout",
          "output_type": "stream",
          "text": [
            "R² for Linear Regression: 0.8708\n",
            "R² for Polynomial Regression (Manual): 0.9702\n",
            "R² for Polynomial Regression (Scikit): 0.9962\n"
          ]
        }
      ],
      "source": [
        "from sklearn.metrics import r2_score\n",
        "\n",
        "from sklearn.metrics import r2_score\n",
        "\n",
        "y_linear2 = lin_reg_scratch.predict(X_HW)\n",
        "y_poly2 = poly_reg_scratch.predict(X_HW)\n",
        "y_scikit2 = model.predict(poly_features.fit_transform(X_HW))\n",
        "\n",
        "r2_linear = r2_score(y_HW, y_linear2)\n",
        "r2_poly = r2_score(y_HW, y_poly2)\n",
        "r2_scikit = r2_score(y_HW, y_scikit2)\n",
        "\n",
        "print(f\"R² for Linear Regression: {r2_linear:.4f}\")\n",
        "print(f\"R² for Polynomial Regression (Manual): {r2_poly:.4f}\")\n",
        "print(f\"R² for Polynomial Regression (Scikit): {r2_scikit:.4f}\")"
      ]
    },
    {
      "cell_type": "markdown",
      "metadata": {},
      "source": [
        "การวิเคราะห์ผล\n",
        "\n",
        "1.  Linear Regression (Scratch):\n",
        "\n",
        "*   ค่าความแม่นยําจะต่ำกว่าโมเดลแบบ Polynomial Regression เนื่องจาก Linear Regression เป็นโมเดลที่สร้างจากสมการเส้นตรง แต่ข้อมูลจริงที่ใช้นั้นถูกสร้างจากสมการพหุนาม\n",
        "  คือ $$\\textbf{y} = 3\\textbf{x}^3 + 2\\textbf{x}^2 + 3\\textbf{x} + 4 + 2m*(rand(100,1)-1); m = noise $$\n",
        "  ซึ่ง Linear Regression เป็นโมเดลแบบเชิงเส้นจึงไม่สามารถหาความสัมพันธ์ได้อย่างถูกต้องทั้งหมด\n",
        "  \n",
        "\n",
        "2.   Polynomial Regression (Scratch):\n",
        "\n",
        "*   โมเดลนี้หาความสัมพันธ์ของข้อมูลที่มีลักษณะเป็น non-linear ได้ดี ซึ่งสอดคล้องกับลักษณะของข้อมูลที่เราใช้จึงทำให้มีความแม่นยําสูงขึ้น\n",
        "*   การทำโมเดล Polynomial Regression แบบที่เราสร้างเอง(Scratch) อาจมีความแม่นยําน้อยกว่าโมเดลที่สร้างโดย library สําเร็จรูปเช่น Scikit-Learn เพราะการปรับพารามิเตอร์อาจมีข้อผิดพลาด เช่น การกำหนด learning rate หรือจำนวน iteration ที่ไม่เหมาะสม\n",
        "\n",
        "3.   Polynomial Regression (Scikit-Learn):\n",
        "\n",
        "\n",
        "*   ผลลัพธ์จาก Scikit-Learn มักจะมีค่าความแม่นยําสูงกว่าหรือใกล้เคียงกับ Polynomial Regression แบบที่เราสร้างเอง(Scratch) เพราะ Scikit-Learn เป็น library ที่มีการปรับแต่ง พารามิเตอร์ให้เหมาะสมทําให้โมเดลมักจะมีความแม่นยํามากกว่าโมเดล Polynomial Regression แบบที่เราสร้างเอง(Scratch)"
      ]
    },
    {
      "cell_type": "markdown",
      "metadata": {},
      "source": []
    }
  ],
  "metadata": {
    "colab": {
      "provenance": []
    },
    "kernelspec": {
      "display_name": "Python 3",
      "name": "python3"
    },
    "language_info": {
      "codemirror_mode": {
        "name": "ipython",
        "version": 3
      },
      "file_extension": ".py",
      "mimetype": "text/x-python",
      "name": "python",
      "nbconvert_exporter": "python",
      "pygments_lexer": "ipython3",
      "version": "3.13.0"
    }
  },
  "nbformat": 4,
  "nbformat_minor": 0
}
