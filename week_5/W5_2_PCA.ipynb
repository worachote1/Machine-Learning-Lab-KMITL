{
  "cells": [
    {
      "cell_type": "markdown",
      "metadata": {
        "id": "_waUfs_r_8Wf"
      },
      "source": [
        "# Import Section & Dataset"
      ]
    },
    {
      "cell_type": "code",
      "execution_count": null,
      "metadata": {
        "colab": {
          "base_uri": "https://localhost:8080/"
        },
        "id": "9x3ZMXNKw4z-",
        "outputId": "14bc6225-fb8f-4092-a368-abe02b1da66b"
      },
      "outputs": [
        {
          "name": "stdout",
          "output_type": "stream",
          "text": [
            "Requirement already satisfied: ucimlrepo in /usr/local/lib/python3.10/dist-packages (0.0.7)\n",
            "Requirement already satisfied: pandas>=1.0.0 in /usr/local/lib/python3.10/dist-packages (from ucimlrepo) (2.2.2)\n",
            "Requirement already satisfied: certifi>=2020.12.5 in /usr/local/lib/python3.10/dist-packages (from ucimlrepo) (2024.8.30)\n",
            "Requirement already satisfied: numpy>=1.22.4 in /usr/local/lib/python3.10/dist-packages (from pandas>=1.0.0->ucimlrepo) (1.26.4)\n",
            "Requirement already satisfied: python-dateutil>=2.8.2 in /usr/local/lib/python3.10/dist-packages (from pandas>=1.0.0->ucimlrepo) (2.8.2)\n",
            "Requirement already satisfied: pytz>=2020.1 in /usr/local/lib/python3.10/dist-packages (from pandas>=1.0.0->ucimlrepo) (2024.2)\n",
            "Requirement already satisfied: tzdata>=2022.7 in /usr/local/lib/python3.10/dist-packages (from pandas>=1.0.0->ucimlrepo) (2024.2)\n",
            "Requirement already satisfied: six>=1.5 in /usr/local/lib/python3.10/dist-packages (from python-dateutil>=2.8.2->pandas>=1.0.0->ucimlrepo) (1.16.0)\n"
          ]
        }
      ],
      "source": [
        "!pip install ucimlrepo\n",
        "from ucimlrepo import fetch_ucirepo\n",
        "import numpy as np\n",
        "import pandas as pd\n",
        "import matplotlib as mpl\n",
        "import matplotlib.pyplot as plt\n",
        "import seaborn as sns\n",
        "%matplotlib inline"
      ]
    },
    {
      "cell_type": "code",
      "execution_count": null,
      "metadata": {
        "id": "hZeqkJWQzPpy"
      },
      "outputs": [],
      "source": [
        "# fetch dataset\n",
        "wine = fetch_ucirepo(id=186)\n",
        "\n",
        "# data (as pandas dataframes)\n",
        "X = wine.data.features\n",
        "y = wine.data.targets"
      ]
    },
    {
      "cell_type": "code",
      "execution_count": null,
      "metadata": {
        "colab": {
          "base_uri": "https://localhost:8080/",
          "height": 206
        },
        "id": "y262QGyEyMjo",
        "outputId": "f3e75954-ae59-450c-b128-3d66b5aaf0a6"
      },
      "outputs": [
        {
          "data": {
            "application/vnd.google.colaboratory.intrinsic+json": {
              "summary": "{\n  \"name\": \"X\",\n  \"rows\": 6497,\n  \"fields\": [\n    {\n      \"column\": \"fixed_acidity\",\n      \"properties\": {\n        \"dtype\": \"number\",\n        \"std\": 1.296433757799792,\n        \"min\": 3.8,\n        \"max\": 15.9,\n        \"num_unique_values\": 106,\n        \"samples\": [\n          7.15,\n          8.1,\n          7.3\n        ],\n        \"semantic_type\": \"\",\n        \"description\": \"\"\n      }\n    },\n    {\n      \"column\": \"volatile_acidity\",\n      \"properties\": {\n        \"dtype\": \"number\",\n        \"std\": 0.1646364740846772,\n        \"min\": 0.08,\n        \"max\": 1.58,\n        \"num_unique_values\": 187,\n        \"samples\": [\n          0.405,\n          0.21,\n          0.695\n        ],\n        \"semantic_type\": \"\",\n        \"description\": \"\"\n      }\n    },\n    {\n      \"column\": \"citric_acid\",\n      \"properties\": {\n        \"dtype\": \"number\",\n        \"std\": 0.14531786489759185,\n        \"min\": 0.0,\n        \"max\": 1.66,\n        \"num_unique_values\": 89,\n        \"samples\": [\n          0.1,\n          0.6,\n          0.37\n        ],\n        \"semantic_type\": \"\",\n        \"description\": \"\"\n      }\n    },\n    {\n      \"column\": \"residual_sugar\",\n      \"properties\": {\n        \"dtype\": \"number\",\n        \"std\": 4.757803743147445,\n        \"min\": 0.6,\n        \"max\": 65.8,\n        \"num_unique_values\": 316,\n        \"samples\": [\n          18.95,\n          3.2,\n          9.3\n        ],\n        \"semantic_type\": \"\",\n        \"description\": \"\"\n      }\n    },\n    {\n      \"column\": \"chlorides\",\n      \"properties\": {\n        \"dtype\": \"number\",\n        \"std\": 0.03503360137245906,\n        \"min\": 0.009,\n        \"max\": 0.611,\n        \"num_unique_values\": 214,\n        \"samples\": [\n          0.089,\n          0.217,\n          0.1\n        ],\n        \"semantic_type\": \"\",\n        \"description\": \"\"\n      }\n    },\n    {\n      \"column\": \"free_sulfur_dioxide\",\n      \"properties\": {\n        \"dtype\": \"number\",\n        \"std\": 17.74939977200255,\n        \"min\": 1.0,\n        \"max\": 289.0,\n        \"num_unique_values\": 135,\n        \"samples\": [\n          77.5,\n          65.0,\n          128.0\n        ],\n        \"semantic_type\": \"\",\n        \"description\": \"\"\n      }\n    },\n    {\n      \"column\": \"total_sulfur_dioxide\",\n      \"properties\": {\n        \"dtype\": \"number\",\n        \"std\": 56.521854522630264,\n        \"min\": 6.0,\n        \"max\": 440.0,\n        \"num_unique_values\": 276,\n        \"samples\": [\n          14.0,\n          149.0,\n          227.0\n        ],\n        \"semantic_type\": \"\",\n        \"description\": \"\"\n      }\n    },\n    {\n      \"column\": \"density\",\n      \"properties\": {\n        \"dtype\": \"number\",\n        \"std\": 0.002998673003719041,\n        \"min\": 0.98711,\n        \"max\": 1.03898,\n        \"num_unique_values\": 998,\n        \"samples\": [\n          0.9918,\n          0.99412,\n          0.99484\n        ],\n        \"semantic_type\": \"\",\n        \"description\": \"\"\n      }\n    },\n    {\n      \"column\": \"pH\",\n      \"properties\": {\n        \"dtype\": \"number\",\n        \"std\": 0.1607872021039883,\n        \"min\": 2.72,\n        \"max\": 4.01,\n        \"num_unique_values\": 108,\n        \"samples\": [\n          3.74,\n          3.17,\n          3.3\n        ],\n        \"semantic_type\": \"\",\n        \"description\": \"\"\n      }\n    },\n    {\n      \"column\": \"sulphates\",\n      \"properties\": {\n        \"dtype\": \"number\",\n        \"std\": 0.14880587361448958,\n        \"min\": 0.22,\n        \"max\": 2.0,\n        \"num_unique_values\": 111,\n        \"samples\": [\n          1.11,\n          1.56,\n          0.46\n        ],\n        \"semantic_type\": \"\",\n        \"description\": \"\"\n      }\n    },\n    {\n      \"column\": \"alcohol\",\n      \"properties\": {\n        \"dtype\": \"number\",\n        \"std\": 1.1927117488689862,\n        \"min\": 8.0,\n        \"max\": 14.9,\n        \"num_unique_values\": 111,\n        \"samples\": [\n          10.93333333,\n          9.7,\n          10.5\n        ],\n        \"semantic_type\": \"\",\n        \"description\": \"\"\n      }\n    }\n  ]\n}",
              "type": "dataframe",
              "variable_name": "X"
            },
            "text/html": [
              "\n",
              "  <div id=\"df-efa6997c-bffa-4dc9-9b97-27e1f65ba9b6\" class=\"colab-df-container\">\n",
              "    <div>\n",
              "<style scoped>\n",
              "    .dataframe tbody tr th:only-of-type {\n",
              "        vertical-align: middle;\n",
              "    }\n",
              "\n",
              "    .dataframe tbody tr th {\n",
              "        vertical-align: top;\n",
              "    }\n",
              "\n",
              "    .dataframe thead th {\n",
              "        text-align: right;\n",
              "    }\n",
              "</style>\n",
              "<table border=\"1\" class=\"dataframe\">\n",
              "  <thead>\n",
              "    <tr style=\"text-align: right;\">\n",
              "      <th></th>\n",
              "      <th>fixed_acidity</th>\n",
              "      <th>volatile_acidity</th>\n",
              "      <th>citric_acid</th>\n",
              "      <th>residual_sugar</th>\n",
              "      <th>chlorides</th>\n",
              "      <th>free_sulfur_dioxide</th>\n",
              "      <th>total_sulfur_dioxide</th>\n",
              "      <th>density</th>\n",
              "      <th>pH</th>\n",
              "      <th>sulphates</th>\n",
              "      <th>alcohol</th>\n",
              "    </tr>\n",
              "  </thead>\n",
              "  <tbody>\n",
              "    <tr>\n",
              "      <th>0</th>\n",
              "      <td>7.4</td>\n",
              "      <td>0.70</td>\n",
              "      <td>0.00</td>\n",
              "      <td>1.9</td>\n",
              "      <td>0.076</td>\n",
              "      <td>11.0</td>\n",
              "      <td>34.0</td>\n",
              "      <td>0.9978</td>\n",
              "      <td>3.51</td>\n",
              "      <td>0.56</td>\n",
              "      <td>9.4</td>\n",
              "    </tr>\n",
              "    <tr>\n",
              "      <th>1</th>\n",
              "      <td>7.8</td>\n",
              "      <td>0.88</td>\n",
              "      <td>0.00</td>\n",
              "      <td>2.6</td>\n",
              "      <td>0.098</td>\n",
              "      <td>25.0</td>\n",
              "      <td>67.0</td>\n",
              "      <td>0.9968</td>\n",
              "      <td>3.20</td>\n",
              "      <td>0.68</td>\n",
              "      <td>9.8</td>\n",
              "    </tr>\n",
              "    <tr>\n",
              "      <th>2</th>\n",
              "      <td>7.8</td>\n",
              "      <td>0.76</td>\n",
              "      <td>0.04</td>\n",
              "      <td>2.3</td>\n",
              "      <td>0.092</td>\n",
              "      <td>15.0</td>\n",
              "      <td>54.0</td>\n",
              "      <td>0.9970</td>\n",
              "      <td>3.26</td>\n",
              "      <td>0.65</td>\n",
              "      <td>9.8</td>\n",
              "    </tr>\n",
              "    <tr>\n",
              "      <th>3</th>\n",
              "      <td>11.2</td>\n",
              "      <td>0.28</td>\n",
              "      <td>0.56</td>\n",
              "      <td>1.9</td>\n",
              "      <td>0.075</td>\n",
              "      <td>17.0</td>\n",
              "      <td>60.0</td>\n",
              "      <td>0.9980</td>\n",
              "      <td>3.16</td>\n",
              "      <td>0.58</td>\n",
              "      <td>9.8</td>\n",
              "    </tr>\n",
              "    <tr>\n",
              "      <th>4</th>\n",
              "      <td>7.4</td>\n",
              "      <td>0.70</td>\n",
              "      <td>0.00</td>\n",
              "      <td>1.9</td>\n",
              "      <td>0.076</td>\n",
              "      <td>11.0</td>\n",
              "      <td>34.0</td>\n",
              "      <td>0.9978</td>\n",
              "      <td>3.51</td>\n",
              "      <td>0.56</td>\n",
              "      <td>9.4</td>\n",
              "    </tr>\n",
              "  </tbody>\n",
              "</table>\n",
              "</div>\n",
              "    <div class=\"colab-df-buttons\">\n",
              "\n",
              "  <div class=\"colab-df-container\">\n",
              "    <button class=\"colab-df-convert\" onclick=\"convertToInteractive('df-efa6997c-bffa-4dc9-9b97-27e1f65ba9b6')\"\n",
              "            title=\"Convert this dataframe to an interactive table.\"\n",
              "            style=\"display:none;\">\n",
              "\n",
              "  <svg xmlns=\"http://www.w3.org/2000/svg\" height=\"24px\" viewBox=\"0 -960 960 960\">\n",
              "    <path d=\"M120-120v-720h720v720H120Zm60-500h600v-160H180v160Zm220 220h160v-160H400v160Zm0 220h160v-160H400v160ZM180-400h160v-160H180v160Zm440 0h160v-160H620v160ZM180-180h160v-160H180v160Zm440 0h160v-160H620v160Z\"/>\n",
              "  </svg>\n",
              "    </button>\n",
              "\n",
              "  <style>\n",
              "    .colab-df-container {\n",
              "      display:flex;\n",
              "      gap: 12px;\n",
              "    }\n",
              "\n",
              "    .colab-df-convert {\n",
              "      background-color: #E8F0FE;\n",
              "      border: none;\n",
              "      border-radius: 50%;\n",
              "      cursor: pointer;\n",
              "      display: none;\n",
              "      fill: #1967D2;\n",
              "      height: 32px;\n",
              "      padding: 0 0 0 0;\n",
              "      width: 32px;\n",
              "    }\n",
              "\n",
              "    .colab-df-convert:hover {\n",
              "      background-color: #E2EBFA;\n",
              "      box-shadow: 0px 1px 2px rgba(60, 64, 67, 0.3), 0px 1px 3px 1px rgba(60, 64, 67, 0.15);\n",
              "      fill: #174EA6;\n",
              "    }\n",
              "\n",
              "    .colab-df-buttons div {\n",
              "      margin-bottom: 4px;\n",
              "    }\n",
              "\n",
              "    [theme=dark] .colab-df-convert {\n",
              "      background-color: #3B4455;\n",
              "      fill: #D2E3FC;\n",
              "    }\n",
              "\n",
              "    [theme=dark] .colab-df-convert:hover {\n",
              "      background-color: #434B5C;\n",
              "      box-shadow: 0px 1px 3px 1px rgba(0, 0, 0, 0.15);\n",
              "      filter: drop-shadow(0px 1px 2px rgba(0, 0, 0, 0.3));\n",
              "      fill: #FFFFFF;\n",
              "    }\n",
              "  </style>\n",
              "\n",
              "    <script>\n",
              "      const buttonEl =\n",
              "        document.querySelector('#df-efa6997c-bffa-4dc9-9b97-27e1f65ba9b6 button.colab-df-convert');\n",
              "      buttonEl.style.display =\n",
              "        google.colab.kernel.accessAllowed ? 'block' : 'none';\n",
              "\n",
              "      async function convertToInteractive(key) {\n",
              "        const element = document.querySelector('#df-efa6997c-bffa-4dc9-9b97-27e1f65ba9b6');\n",
              "        const dataTable =\n",
              "          await google.colab.kernel.invokeFunction('convertToInteractive',\n",
              "                                                    [key], {});\n",
              "        if (!dataTable) return;\n",
              "\n",
              "        const docLinkHtml = 'Like what you see? Visit the ' +\n",
              "          '<a target=\"_blank\" href=https://colab.research.google.com/notebooks/data_table.ipynb>data table notebook</a>'\n",
              "          + ' to learn more about interactive tables.';\n",
              "        element.innerHTML = '';\n",
              "        dataTable['output_type'] = 'display_data';\n",
              "        await google.colab.output.renderOutput(dataTable, element);\n",
              "        const docLink = document.createElement('div');\n",
              "        docLink.innerHTML = docLinkHtml;\n",
              "        element.appendChild(docLink);\n",
              "      }\n",
              "    </script>\n",
              "  </div>\n",
              "\n",
              "\n",
              "<div id=\"df-c5f2b007-08f4-4ca0-b6ca-839f8932f3c3\">\n",
              "  <button class=\"colab-df-quickchart\" onclick=\"quickchart('df-c5f2b007-08f4-4ca0-b6ca-839f8932f3c3')\"\n",
              "            title=\"Suggest charts\"\n",
              "            style=\"display:none;\">\n",
              "\n",
              "<svg xmlns=\"http://www.w3.org/2000/svg\" height=\"24px\"viewBox=\"0 0 24 24\"\n",
              "     width=\"24px\">\n",
              "    <g>\n",
              "        <path d=\"M19 3H5c-1.1 0-2 .9-2 2v14c0 1.1.9 2 2 2h14c1.1 0 2-.9 2-2V5c0-1.1-.9-2-2-2zM9 17H7v-7h2v7zm4 0h-2V7h2v10zm4 0h-2v-4h2v4z\"/>\n",
              "    </g>\n",
              "</svg>\n",
              "  </button>\n",
              "\n",
              "<style>\n",
              "  .colab-df-quickchart {\n",
              "      --bg-color: #E8F0FE;\n",
              "      --fill-color: #1967D2;\n",
              "      --hover-bg-color: #E2EBFA;\n",
              "      --hover-fill-color: #174EA6;\n",
              "      --disabled-fill-color: #AAA;\n",
              "      --disabled-bg-color: #DDD;\n",
              "  }\n",
              "\n",
              "  [theme=dark] .colab-df-quickchart {\n",
              "      --bg-color: #3B4455;\n",
              "      --fill-color: #D2E3FC;\n",
              "      --hover-bg-color: #434B5C;\n",
              "      --hover-fill-color: #FFFFFF;\n",
              "      --disabled-bg-color: #3B4455;\n",
              "      --disabled-fill-color: #666;\n",
              "  }\n",
              "\n",
              "  .colab-df-quickchart {\n",
              "    background-color: var(--bg-color);\n",
              "    border: none;\n",
              "    border-radius: 50%;\n",
              "    cursor: pointer;\n",
              "    display: none;\n",
              "    fill: var(--fill-color);\n",
              "    height: 32px;\n",
              "    padding: 0;\n",
              "    width: 32px;\n",
              "  }\n",
              "\n",
              "  .colab-df-quickchart:hover {\n",
              "    background-color: var(--hover-bg-color);\n",
              "    box-shadow: 0 1px 2px rgba(60, 64, 67, 0.3), 0 1px 3px 1px rgba(60, 64, 67, 0.15);\n",
              "    fill: var(--button-hover-fill-color);\n",
              "  }\n",
              "\n",
              "  .colab-df-quickchart-complete:disabled,\n",
              "  .colab-df-quickchart-complete:disabled:hover {\n",
              "    background-color: var(--disabled-bg-color);\n",
              "    fill: var(--disabled-fill-color);\n",
              "    box-shadow: none;\n",
              "  }\n",
              "\n",
              "  .colab-df-spinner {\n",
              "    border: 2px solid var(--fill-color);\n",
              "    border-color: transparent;\n",
              "    border-bottom-color: var(--fill-color);\n",
              "    animation:\n",
              "      spin 1s steps(1) infinite;\n",
              "  }\n",
              "\n",
              "  @keyframes spin {\n",
              "    0% {\n",
              "      border-color: transparent;\n",
              "      border-bottom-color: var(--fill-color);\n",
              "      border-left-color: var(--fill-color);\n",
              "    }\n",
              "    20% {\n",
              "      border-color: transparent;\n",
              "      border-left-color: var(--fill-color);\n",
              "      border-top-color: var(--fill-color);\n",
              "    }\n",
              "    30% {\n",
              "      border-color: transparent;\n",
              "      border-left-color: var(--fill-color);\n",
              "      border-top-color: var(--fill-color);\n",
              "      border-right-color: var(--fill-color);\n",
              "    }\n",
              "    40% {\n",
              "      border-color: transparent;\n",
              "      border-right-color: var(--fill-color);\n",
              "      border-top-color: var(--fill-color);\n",
              "    }\n",
              "    60% {\n",
              "      border-color: transparent;\n",
              "      border-right-color: var(--fill-color);\n",
              "    }\n",
              "    80% {\n",
              "      border-color: transparent;\n",
              "      border-right-color: var(--fill-color);\n",
              "      border-bottom-color: var(--fill-color);\n",
              "    }\n",
              "    90% {\n",
              "      border-color: transparent;\n",
              "      border-bottom-color: var(--fill-color);\n",
              "    }\n",
              "  }\n",
              "</style>\n",
              "\n",
              "  <script>\n",
              "    async function quickchart(key) {\n",
              "      const quickchartButtonEl =\n",
              "        document.querySelector('#' + key + ' button');\n",
              "      quickchartButtonEl.disabled = true;  // To prevent multiple clicks.\n",
              "      quickchartButtonEl.classList.add('colab-df-spinner');\n",
              "      try {\n",
              "        const charts = await google.colab.kernel.invokeFunction(\n",
              "            'suggestCharts', [key], {});\n",
              "      } catch (error) {\n",
              "        console.error('Error during call to suggestCharts:', error);\n",
              "      }\n",
              "      quickchartButtonEl.classList.remove('colab-df-spinner');\n",
              "      quickchartButtonEl.classList.add('colab-df-quickchart-complete');\n",
              "    }\n",
              "    (() => {\n",
              "      let quickchartButtonEl =\n",
              "        document.querySelector('#df-c5f2b007-08f4-4ca0-b6ca-839f8932f3c3 button');\n",
              "      quickchartButtonEl.style.display =\n",
              "        google.colab.kernel.accessAllowed ? 'block' : 'none';\n",
              "    })();\n",
              "  </script>\n",
              "</div>\n",
              "\n",
              "    </div>\n",
              "  </div>\n"
            ],
            "text/plain": [
              "   fixed_acidity  volatile_acidity  citric_acid  residual_sugar  chlorides  \\\n",
              "0            7.4              0.70         0.00             1.9      0.076   \n",
              "1            7.8              0.88         0.00             2.6      0.098   \n",
              "2            7.8              0.76         0.04             2.3      0.092   \n",
              "3           11.2              0.28         0.56             1.9      0.075   \n",
              "4            7.4              0.70         0.00             1.9      0.076   \n",
              "\n",
              "   free_sulfur_dioxide  total_sulfur_dioxide  density    pH  sulphates  \\\n",
              "0                 11.0                  34.0   0.9978  3.51       0.56   \n",
              "1                 25.0                  67.0   0.9968  3.20       0.68   \n",
              "2                 15.0                  54.0   0.9970  3.26       0.65   \n",
              "3                 17.0                  60.0   0.9980  3.16       0.58   \n",
              "4                 11.0                  34.0   0.9978  3.51       0.56   \n",
              "\n",
              "   alcohol  \n",
              "0      9.4  \n",
              "1      9.8  \n",
              "2      9.8  \n",
              "3      9.8  \n",
              "4      9.4  "
            ]
          },
          "execution_count": 101,
          "metadata": {},
          "output_type": "execute_result"
        }
      ],
      "source": [
        "X.head()"
      ]
    },
    {
      "cell_type": "code",
      "execution_count": null,
      "metadata": {
        "colab": {
          "base_uri": "https://localhost:8080/",
          "height": 206
        },
        "id": "k8LixR_h7Bpv",
        "outputId": "5cc050aa-d169-4801-b896-bc8a3189f89e"
      },
      "outputs": [
        {
          "data": {
            "application/vnd.google.colaboratory.intrinsic+json": {
              "summary": "{\n  \"name\": \"y\",\n  \"rows\": 6497,\n  \"fields\": [\n    {\n      \"column\": \"quality\",\n      \"properties\": {\n        \"dtype\": \"number\",\n        \"std\": 0,\n        \"min\": 3,\n        \"max\": 9,\n        \"num_unique_values\": 7,\n        \"samples\": [\n          5,\n          6,\n          3\n        ],\n        \"semantic_type\": \"\",\n        \"description\": \"\"\n      }\n    }\n  ]\n}",
              "type": "dataframe",
              "variable_name": "y"
            },
            "text/html": [
              "\n",
              "  <div id=\"df-c94f150d-80e5-4b37-9fec-e4d08622abb3\" class=\"colab-df-container\">\n",
              "    <div>\n",
              "<style scoped>\n",
              "    .dataframe tbody tr th:only-of-type {\n",
              "        vertical-align: middle;\n",
              "    }\n",
              "\n",
              "    .dataframe tbody tr th {\n",
              "        vertical-align: top;\n",
              "    }\n",
              "\n",
              "    .dataframe thead th {\n",
              "        text-align: right;\n",
              "    }\n",
              "</style>\n",
              "<table border=\"1\" class=\"dataframe\">\n",
              "  <thead>\n",
              "    <tr style=\"text-align: right;\">\n",
              "      <th></th>\n",
              "      <th>quality</th>\n",
              "    </tr>\n",
              "  </thead>\n",
              "  <tbody>\n",
              "    <tr>\n",
              "      <th>0</th>\n",
              "      <td>5</td>\n",
              "    </tr>\n",
              "    <tr>\n",
              "      <th>1</th>\n",
              "      <td>5</td>\n",
              "    </tr>\n",
              "    <tr>\n",
              "      <th>2</th>\n",
              "      <td>5</td>\n",
              "    </tr>\n",
              "    <tr>\n",
              "      <th>3</th>\n",
              "      <td>6</td>\n",
              "    </tr>\n",
              "    <tr>\n",
              "      <th>4</th>\n",
              "      <td>5</td>\n",
              "    </tr>\n",
              "  </tbody>\n",
              "</table>\n",
              "</div>\n",
              "    <div class=\"colab-df-buttons\">\n",
              "\n",
              "  <div class=\"colab-df-container\">\n",
              "    <button class=\"colab-df-convert\" onclick=\"convertToInteractive('df-c94f150d-80e5-4b37-9fec-e4d08622abb3')\"\n",
              "            title=\"Convert this dataframe to an interactive table.\"\n",
              "            style=\"display:none;\">\n",
              "\n",
              "  <svg xmlns=\"http://www.w3.org/2000/svg\" height=\"24px\" viewBox=\"0 -960 960 960\">\n",
              "    <path d=\"M120-120v-720h720v720H120Zm60-500h600v-160H180v160Zm220 220h160v-160H400v160Zm0 220h160v-160H400v160ZM180-400h160v-160H180v160Zm440 0h160v-160H620v160ZM180-180h160v-160H180v160Zm440 0h160v-160H620v160Z\"/>\n",
              "  </svg>\n",
              "    </button>\n",
              "\n",
              "  <style>\n",
              "    .colab-df-container {\n",
              "      display:flex;\n",
              "      gap: 12px;\n",
              "    }\n",
              "\n",
              "    .colab-df-convert {\n",
              "      background-color: #E8F0FE;\n",
              "      border: none;\n",
              "      border-radius: 50%;\n",
              "      cursor: pointer;\n",
              "      display: none;\n",
              "      fill: #1967D2;\n",
              "      height: 32px;\n",
              "      padding: 0 0 0 0;\n",
              "      width: 32px;\n",
              "    }\n",
              "\n",
              "    .colab-df-convert:hover {\n",
              "      background-color: #E2EBFA;\n",
              "      box-shadow: 0px 1px 2px rgba(60, 64, 67, 0.3), 0px 1px 3px 1px rgba(60, 64, 67, 0.15);\n",
              "      fill: #174EA6;\n",
              "    }\n",
              "\n",
              "    .colab-df-buttons div {\n",
              "      margin-bottom: 4px;\n",
              "    }\n",
              "\n",
              "    [theme=dark] .colab-df-convert {\n",
              "      background-color: #3B4455;\n",
              "      fill: #D2E3FC;\n",
              "    }\n",
              "\n",
              "    [theme=dark] .colab-df-convert:hover {\n",
              "      background-color: #434B5C;\n",
              "      box-shadow: 0px 1px 3px 1px rgba(0, 0, 0, 0.15);\n",
              "      filter: drop-shadow(0px 1px 2px rgba(0, 0, 0, 0.3));\n",
              "      fill: #FFFFFF;\n",
              "    }\n",
              "  </style>\n",
              "\n",
              "    <script>\n",
              "      const buttonEl =\n",
              "        document.querySelector('#df-c94f150d-80e5-4b37-9fec-e4d08622abb3 button.colab-df-convert');\n",
              "      buttonEl.style.display =\n",
              "        google.colab.kernel.accessAllowed ? 'block' : 'none';\n",
              "\n",
              "      async function convertToInteractive(key) {\n",
              "        const element = document.querySelector('#df-c94f150d-80e5-4b37-9fec-e4d08622abb3');\n",
              "        const dataTable =\n",
              "          await google.colab.kernel.invokeFunction('convertToInteractive',\n",
              "                                                    [key], {});\n",
              "        if (!dataTable) return;\n",
              "\n",
              "        const docLinkHtml = 'Like what you see? Visit the ' +\n",
              "          '<a target=\"_blank\" href=https://colab.research.google.com/notebooks/data_table.ipynb>data table notebook</a>'\n",
              "          + ' to learn more about interactive tables.';\n",
              "        element.innerHTML = '';\n",
              "        dataTable['output_type'] = 'display_data';\n",
              "        await google.colab.output.renderOutput(dataTable, element);\n",
              "        const docLink = document.createElement('div');\n",
              "        docLink.innerHTML = docLinkHtml;\n",
              "        element.appendChild(docLink);\n",
              "      }\n",
              "    </script>\n",
              "  </div>\n",
              "\n",
              "\n",
              "<div id=\"df-b6b05b45-974d-45b7-b3be-f0bc525eab93\">\n",
              "  <button class=\"colab-df-quickchart\" onclick=\"quickchart('df-b6b05b45-974d-45b7-b3be-f0bc525eab93')\"\n",
              "            title=\"Suggest charts\"\n",
              "            style=\"display:none;\">\n",
              "\n",
              "<svg xmlns=\"http://www.w3.org/2000/svg\" height=\"24px\"viewBox=\"0 0 24 24\"\n",
              "     width=\"24px\">\n",
              "    <g>\n",
              "        <path d=\"M19 3H5c-1.1 0-2 .9-2 2v14c0 1.1.9 2 2 2h14c1.1 0 2-.9 2-2V5c0-1.1-.9-2-2-2zM9 17H7v-7h2v7zm4 0h-2V7h2v10zm4 0h-2v-4h2v4z\"/>\n",
              "    </g>\n",
              "</svg>\n",
              "  </button>\n",
              "\n",
              "<style>\n",
              "  .colab-df-quickchart {\n",
              "      --bg-color: #E8F0FE;\n",
              "      --fill-color: #1967D2;\n",
              "      --hover-bg-color: #E2EBFA;\n",
              "      --hover-fill-color: #174EA6;\n",
              "      --disabled-fill-color: #AAA;\n",
              "      --disabled-bg-color: #DDD;\n",
              "  }\n",
              "\n",
              "  [theme=dark] .colab-df-quickchart {\n",
              "      --bg-color: #3B4455;\n",
              "      --fill-color: #D2E3FC;\n",
              "      --hover-bg-color: #434B5C;\n",
              "      --hover-fill-color: #FFFFFF;\n",
              "      --disabled-bg-color: #3B4455;\n",
              "      --disabled-fill-color: #666;\n",
              "  }\n",
              "\n",
              "  .colab-df-quickchart {\n",
              "    background-color: var(--bg-color);\n",
              "    border: none;\n",
              "    border-radius: 50%;\n",
              "    cursor: pointer;\n",
              "    display: none;\n",
              "    fill: var(--fill-color);\n",
              "    height: 32px;\n",
              "    padding: 0;\n",
              "    width: 32px;\n",
              "  }\n",
              "\n",
              "  .colab-df-quickchart:hover {\n",
              "    background-color: var(--hover-bg-color);\n",
              "    box-shadow: 0 1px 2px rgba(60, 64, 67, 0.3), 0 1px 3px 1px rgba(60, 64, 67, 0.15);\n",
              "    fill: var(--button-hover-fill-color);\n",
              "  }\n",
              "\n",
              "  .colab-df-quickchart-complete:disabled,\n",
              "  .colab-df-quickchart-complete:disabled:hover {\n",
              "    background-color: var(--disabled-bg-color);\n",
              "    fill: var(--disabled-fill-color);\n",
              "    box-shadow: none;\n",
              "  }\n",
              "\n",
              "  .colab-df-spinner {\n",
              "    border: 2px solid var(--fill-color);\n",
              "    border-color: transparent;\n",
              "    border-bottom-color: var(--fill-color);\n",
              "    animation:\n",
              "      spin 1s steps(1) infinite;\n",
              "  }\n",
              "\n",
              "  @keyframes spin {\n",
              "    0% {\n",
              "      border-color: transparent;\n",
              "      border-bottom-color: var(--fill-color);\n",
              "      border-left-color: var(--fill-color);\n",
              "    }\n",
              "    20% {\n",
              "      border-color: transparent;\n",
              "      border-left-color: var(--fill-color);\n",
              "      border-top-color: var(--fill-color);\n",
              "    }\n",
              "    30% {\n",
              "      border-color: transparent;\n",
              "      border-left-color: var(--fill-color);\n",
              "      border-top-color: var(--fill-color);\n",
              "      border-right-color: var(--fill-color);\n",
              "    }\n",
              "    40% {\n",
              "      border-color: transparent;\n",
              "      border-right-color: var(--fill-color);\n",
              "      border-top-color: var(--fill-color);\n",
              "    }\n",
              "    60% {\n",
              "      border-color: transparent;\n",
              "      border-right-color: var(--fill-color);\n",
              "    }\n",
              "    80% {\n",
              "      border-color: transparent;\n",
              "      border-right-color: var(--fill-color);\n",
              "      border-bottom-color: var(--fill-color);\n",
              "    }\n",
              "    90% {\n",
              "      border-color: transparent;\n",
              "      border-bottom-color: var(--fill-color);\n",
              "    }\n",
              "  }\n",
              "</style>\n",
              "\n",
              "  <script>\n",
              "    async function quickchart(key) {\n",
              "      const quickchartButtonEl =\n",
              "        document.querySelector('#' + key + ' button');\n",
              "      quickchartButtonEl.disabled = true;  // To prevent multiple clicks.\n",
              "      quickchartButtonEl.classList.add('colab-df-spinner');\n",
              "      try {\n",
              "        const charts = await google.colab.kernel.invokeFunction(\n",
              "            'suggestCharts', [key], {});\n",
              "      } catch (error) {\n",
              "        console.error('Error during call to suggestCharts:', error);\n",
              "      }\n",
              "      quickchartButtonEl.classList.remove('colab-df-spinner');\n",
              "      quickchartButtonEl.classList.add('colab-df-quickchart-complete');\n",
              "    }\n",
              "    (() => {\n",
              "      let quickchartButtonEl =\n",
              "        document.querySelector('#df-b6b05b45-974d-45b7-b3be-f0bc525eab93 button');\n",
              "      quickchartButtonEl.style.display =\n",
              "        google.colab.kernel.accessAllowed ? 'block' : 'none';\n",
              "    })();\n",
              "  </script>\n",
              "</div>\n",
              "\n",
              "    </div>\n",
              "  </div>\n"
            ],
            "text/plain": [
              "   quality\n",
              "0        5\n",
              "1        5\n",
              "2        5\n",
              "3        6\n",
              "4        5"
            ]
          },
          "execution_count": 102,
          "metadata": {},
          "output_type": "execute_result"
        }
      ],
      "source": [
        "y.head()"
      ]
    },
    {
      "cell_type": "code",
      "execution_count": null,
      "metadata": {
        "id": "C7kIQwcJ7Wjr"
      },
      "outputs": [],
      "source": [
        "from sklearn.model_selection import train_test_split\n",
        "from sklearn.preprocessing import StandardScaler\n",
        "\n",
        "X_train, X_test, y_train, y_test = train_test_split(X, y, test_size=0.2, random_state=42)\n",
        "scaler = StandardScaler()\n",
        "\n",
        "X_train = scaler.fit_transform(X_train)\n",
        "X_test = scaler.transform(X_test)"
      ]
    },
    {
      "cell_type": "code",
      "execution_count": null,
      "metadata": {
        "colab": {
          "base_uri": "https://localhost:8080/",
          "height": 455
        },
        "id": "X91Ftqrd7nUQ",
        "outputId": "5febb219-b6d7-437e-b443-42949125e5e9"
      },
      "outputs": [
        {
          "data": {
            "image/png": "[encoded data removed]",
            "text/plain": [
              "<Figure size 640x480 with 1 Axes>"
            ]
          },
          "metadata": {},
          "output_type": "display_data"
        }
      ],
      "source": [
        "from sklearn.decomposition import PCA\n",
        "pca = PCA().fit(X_train)\n",
        "plt.plot(range(1, len(pca.explained_variance_ratio_) + 1),\n",
        "         np.cumsum(pca.explained_variance_ratio_),\n",
        "         linestyle='-', marker='o')\n",
        "plt.grid(linestyle='-', linewidth=1)\n",
        "plt.xlim([0,11])\n",
        "plt.ylim([0,1])\n",
        "plt.xlabel('Number of components')\n",
        "plt.ylabel('Cumulative explained variance')\n",
        "plt.show()"
      ]
    },
    {
      "cell_type": "markdown",
      "metadata": {
        "id": "NIDksQ3A8yrg"
      },
      "source": [
        "Above graph show how much information will be retain with n Number of Component (For example 1 Component will retain 50% of original information)"
      ]
    },
    {
      "cell_type": "markdown",
      "metadata": {
        "id": "TkC3P0zqAOq8"
      },
      "source": [
        "# PCA From Scratch"
      ]
    },
    {
      "cell_type": "markdown",
      "metadata": {
        "id": "-upa11NhBjU2"
      },
      "source": [
        "First we find covariance manually or using numpy library"
      ]
    },
    {
      "cell_type": "code",
      "execution_count": null,
      "metadata": {
        "colab": {
          "base_uri": "https://localhost:8080/"
        },
        "id": "Dw1ySe0jBAU8",
        "outputId": "4c647822-a253-4592-edaa-8c5e27b5ea63"
      },
      "outputs": [
        {
          "name": "stdout",
          "output_type": "stream",
          "text": [
            "Covariance matrix \n",
            "[[ 1.00019246e+00  2.20768677e-01  3.31819842e-01 -1.11126792e-01\n",
            "   2.94397356e-01 -2.89173560e-01 -3.37872629e-01  4.51578533e-01\n",
            "  -2.49218893e-01  2.99826509e-01 -8.70857105e-02]\n",
            " [ 2.20768677e-01  1.00019246e+00 -3.69985292e-01 -1.85237964e-01\n",
            "   3.78525054e-01 -3.59094519e-01 -4.10622496e-01  2.74701972e-01\n",
            "   2.55069740e-01  2.29155434e-01 -3.87649657e-02]\n",
            " [ 3.31819842e-01 -3.69985292e-01  1.00019246e+00  1.40327658e-01\n",
            "   4.72585493e-02  1.32026909e-01  1.84974484e-01  1.01625379e-01\n",
            "  -3.27753425e-01  6.43927266e-02 -1.03053044e-02]\n",
            " [-1.11126792e-01 -1.85237964e-01  1.40327658e-01  1.00019246e+00\n",
            "  -1.25509077e-01  4.02036938e-01  4.92157602e-01  5.62873810e-01\n",
            "  -2.65554169e-01 -1.86777350e-01 -3.65660721e-01]\n",
            " [ 2.94397356e-01  3.78525054e-01  4.72585493e-02 -1.25509077e-01\n",
            "   1.00019246e+00 -2.02476190e-01 -2.81903992e-01  3.58069280e-01\n",
            "   3.85424024e-02  4.03802289e-01 -2.50248520e-01]\n",
            " [-2.89173560e-01 -3.59094519e-01  1.32026909e-01  4.02036938e-01\n",
            "  -2.02476190e-01  1.00019246e+00  7.24439162e-01  2.25052524e-02\n",
            "  -1.51051530e-01 -2.00563579e-01 -1.83313074e-01]\n",
            " [-3.37872629e-01 -4.10622496e-01  1.84974484e-01  4.92157602e-01\n",
            "  -2.81903992e-01  7.24439162e-01  1.00019246e+00  3.28442488e-02\n",
            "  -2.33750474e-01 -2.84685133e-01 -2.73160889e-01]\n",
            " [ 4.51578533e-01  2.74701972e-01  1.01625379e-01  5.62873810e-01\n",
            "   3.58069280e-01  2.25052524e-02  3.28442488e-02  1.00019246e+00\n",
            "   1.28531183e-02  2.55659723e-01 -6.83692046e-01]\n",
            " [-2.49218893e-01  2.55069740e-01 -3.27753425e-01 -2.65554169e-01\n",
            "   3.85424024e-02 -1.51051530e-01 -2.33750474e-01  1.28531183e-02\n",
            "   1.00019246e+00  1.92537398e-01  1.15058016e-01]\n",
            " [ 2.99826509e-01  2.29155434e-01  6.43927266e-02 -1.86777350e-01\n",
            "   4.03802289e-01 -2.00563579e-01 -2.84685133e-01  2.55659723e-01\n",
            "   1.92537398e-01  1.00019246e+00  4.36628085e-05]\n",
            " [-8.70857105e-02 -3.87649657e-02 -1.03053044e-02 -3.65660721e-01\n",
            "  -2.50248520e-01 -1.83313074e-01 -2.73160889e-01 -6.83692046e-01\n",
            "   1.15058016e-01  4.36628085e-05  1.00019246e+00]]\n"
          ]
        }
      ],
      "source": [
        "mean_vec = np.mean(X_train, axis=0)\n",
        "cov_mat = (X_train - mean_vec).T.dot((X_train - mean_vec)) / (X_train.shape[0]-1)\n",
        "print('Covariance matrix \\n%s' %cov_mat)\n",
        "# print('NumPy covariance matrix: \\n%s' %np.cov(X_train.T)) # Using numpy built-in to find covariance"
      ]
    },
    {
      "cell_type": "markdown",
      "metadata": {
        "id": "gAUvsNFVB9ll"
      },
      "source": [
        "Visualization of Covariance Matrix"
      ]
    },
    {
      "cell_type": "code",
      "execution_count": null,
      "metadata": {
        "colab": {
          "base_uri": "https://localhost:8080/",
          "height": 658
        },
        "id": "bDEyk0lZBf9Y",
        "outputId": "a73546a3-4a4e-4e21-bbd4-4a173c0519c5"
      },
      "outputs": [
        {
          "data": {
            "image/png": "[encoded data removed]",
            "text/plain": [
              "<Figure size 800x800 with 2 Axes>"
            ]
          },
          "metadata": {},
          "output_type": "display_data"
        }
      ],
      "source": [
        "plt.figure(figsize=(8,8))\n",
        "sns.heatmap(cov_mat, vmax=1, square=True,annot=True,cmap='cubehelix')\n",
        "\n",
        "plt.title('Correlation between different features')\n",
        "plt.show()"
      ]
    },
    {
      "cell_type": "markdown",
      "metadata": {
        "id": "Ikk2QD-LCUBZ"
      },
      "source": [
        "Then we will calculate eigen value and eigen vector with built-in numpy function"
      ]
    },
    {
      "cell_type": "code",
      "execution_count": null,
      "metadata": {
        "colab": {
          "base_uri": "https://localhost:8080/"
        },
        "id": "Hdi_Yo5wCSzi",
        "outputId": "df075aa2-613b-4f2c-a0d7-90a329205ff5"
      },
      "outputs": [
        {
          "name": "stdout",
          "output_type": "stream",
          "text": [
            "Eigenvectors \n",
            "[[ 0.2443545   0.33062133 -0.43111007 -0.33087071 -0.17782952 -0.28483532\n",
            "   0.34044957  0.15485058  0.17529538  0.34396875  0.36601504]\n",
            " [ 0.37670505  0.12089292  0.31210914 -0.0839253  -0.22049429  0.15671361\n",
            "  -0.4862132  -0.16253674  0.49027907  0.38262108 -0.12748266]\n",
            " [-0.14113573  0.18766334 -0.59444432  0.00161509  0.26391015  0.23425413\n",
            "  -0.40020276  0.16766189 -0.20257358  0.321056   -0.36686124]\n",
            " [-0.34205543  0.33778128  0.159044   -0.45541379 -0.1695389  -0.0072009\n",
            "   0.1078311   0.33407079  0.26567355 -0.31098923 -0.46570625]\n",
            " [ 0.29149583  0.31265668  0.01516711 -0.04627194  0.25394745 -0.20012773\n",
            "   0.30439074 -0.61309035 -0.14911674 -0.01855949 -0.46824211]\n",
            " [-0.43505064  0.07064598  0.11784588 -0.00087501  0.35052152  0.47809834\n",
            "   0.37610308 -0.21506891  0.33057996  0.33663376  0.17347838]\n",
            " [-0.48760413  0.08770501  0.10239433  0.06503946  0.20854572 -0.71118932\n",
            "  -0.32252753 -0.15636852  0.14516366  0.16929793  0.1111051 ]\n",
            " [ 0.04384248  0.58436182  0.17611652  0.71580466 -0.07383349 -0.00370408\n",
            "   0.11675236  0.30442414 -0.01194284  0.0353995  -0.00630398]\n",
            " [ 0.21321871 -0.15505733  0.45669635 -0.20417652  0.41723609 -0.13798118\n",
            "   0.12878588  0.47362516 -0.27453074  0.3969179  -0.11529568]\n",
            " [ 0.29975176  0.18939323 -0.0700649  -0.07596083  0.63475752  0.04494086\n",
            "  -0.20869523  0.12074316  0.3061698  -0.48293358  0.27123011]\n",
            " [ 0.11059299 -0.4636078  -0.26262707  0.33146704  0.08981376 -0.20950237\n",
            "   0.25298052  0.1781292   0.54354242  0.03383845 -0.38694096]]\n",
            "\n",
            "Eigenvalues \n",
            "[3.03664377 2.49160763 1.56304341 0.03377963 0.96734294 0.22541942\n",
            " 0.33557371 0.72433665 0.60339737 0.52013499 0.50083751]\n"
          ]
        }
      ],
      "source": [
        "eig_vals, eig_vecs = np.linalg.eig(cov_mat)\n",
        "\n",
        "print('Eigenvectors \\n%s' %eig_vecs)\n",
        "print('\\nEigenvalues \\n%s' %eig_vals)"
      ]
    },
    {
      "cell_type": "markdown",
      "metadata": {
        "id": "O_wrhpRcFOvK"
      },
      "source": [
        "After that we will make pair of eigen vector and eigen value sorted by eigen value"
      ]
    },
    {
      "cell_type": "code",
      "execution_count": null,
      "metadata": {
        "id": "NzJkpH-2FKe0"
      },
      "outputs": [],
      "source": [
        "eigen_pair = [[eig_vals[i] ,eig_vecs[:,i]] for i in range(len(eig_vals))]"
      ]
    },
    {
      "cell_type": "code",
      "execution_count": null,
      "metadata": {
        "id": "zz9PTDaVF8L1"
      },
      "outputs": [],
      "source": [
        "eigen_pair.sort(key=lambda x : x[0], reverse=True)"
      ]
    },
    {
      "cell_type": "code",
      "execution_count": null,
      "metadata": {
        "colab": {
          "base_uri": "https://localhost:8080/"
        },
        "id": "aAJJ_nB0GHr-",
        "outputId": "83c1f38a-63b7-43f1-8b61-4e1f65f33708"
      },
      "outputs": [
        {
          "data": {
            "text/plain": [
              "[[3.0366437658031447,\n",
              "  array([ 0.2443545 ,  0.37670505, -0.14113573, -0.34205543,  0.29149583,\n",
              "         -0.43505064, -0.48760413,  0.04384248,  0.21321871,  0.29975176,\n",
              "          0.11059299])],\n",
              " [2.4916076325976744,\n",
              "  array([ 0.33062133,  0.12089292,  0.18766334,  0.33778128,  0.31265668,\n",
              "          0.07064598,  0.08770501,  0.58436182, -0.15505733,  0.18939323,\n",
              "         -0.4636078 ])],\n",
              " [1.563043408571053,\n",
              "  array([-0.43111007,  0.31210914, -0.59444432,  0.159044  ,  0.01516711,\n",
              "          0.11784588,  0.10239433,  0.17611652,  0.45669635, -0.0700649 ,\n",
              "         -0.26262707])],\n",
              " [0.9673429352134982,\n",
              "  array([-0.17782952, -0.22049429,  0.26391015, -0.1695389 ,  0.25394745,\n",
              "          0.35052152,  0.20854572, -0.07383349,  0.41723609,  0.63475752,\n",
              "          0.08981376])],\n",
              " [0.7243366489230022,\n",
              "  array([ 0.15485058, -0.16253674,  0.16766189,  0.33407079, -0.61309035,\n",
              "         -0.21506891, -0.15636852,  0.30442414,  0.47362516,  0.12074316,\n",
              "          0.1781292 ])],\n",
              " [0.6033973713118395,\n",
              "  array([ 0.17529538,  0.49027907, -0.20257358,  0.26567355, -0.14911674,\n",
              "          0.33057996,  0.14516366, -0.01194284, -0.27453074,  0.3061698 ,\n",
              "          0.54354242])],\n",
              " [0.5201349878370669,\n",
              "  array([ 0.34396875,  0.38262108,  0.321056  , -0.31098923, -0.01855949,\n",
              "          0.33663376,  0.16929793,  0.0353995 ,  0.3969179 , -0.48293358,\n",
              "          0.03383845])],\n",
              " [0.5008375149356875,\n",
              "  array([ 0.36601504, -0.12748266, -0.36686124, -0.46570625, -0.46824211,\n",
              "          0.17347838,  0.1111051 , -0.00630398, -0.11529568,  0.27123011,\n",
              "         -0.38694096])],\n",
              " [0.33557370605765546,\n",
              "  array([ 0.34044957, -0.4862132 , -0.40020276,  0.1078311 ,  0.30439074,\n",
              "          0.37610308, -0.32252753,  0.11675236,  0.12878588, -0.20869523,\n",
              "          0.25298052])],\n",
              " [0.2254194168129363,\n",
              "  array([-0.28483532,  0.15671361,  0.23425413, -0.0072009 , -0.20012773,\n",
              "          0.47809834, -0.71118932, -0.00370408, -0.13798118,  0.04494086,\n",
              "         -0.20950237])],\n",
              " [0.03377962502343694,\n",
              "  array([-0.33087071, -0.0839253 ,  0.00161509, -0.45541379, -0.04627194,\n",
              "         -0.00087501,  0.06503946,  0.71580466, -0.20417652, -0.07596083,\n",
              "          0.33146704])]]"
            ]
          },
          "execution_count": 110,
          "metadata": {},
          "output_type": "execute_result"
        }
      ],
      "source": [
        "eigen_pair"
      ]
    },
    {
      "cell_type": "markdown",
      "metadata": {
        "id": "AdmhNjebGerf"
      },
      "source": [
        "Calculate importance of vector"
      ]
    },
    {
      "cell_type": "code",
      "execution_count": null,
      "metadata": {
        "colab": {
          "base_uri": "https://localhost:8080/"
        },
        "id": "G19z5lJmGMiZ",
        "outputId": "2979e408-79ab-4e68-93b0-adc77d478c7f"
      },
      "outputs": [
        {
          "name": "stdout",
          "output_type": "stream",
          "text": [
            "Eigen Vector 0 : 27.600540534072344%\n",
            "Eigen Vector 1 : 22.646620006258004%\n",
            "Eigen Vector 2 : 14.206751361686267%\n",
            "Eigen Vector 3 : 8.792334548549576%\n",
            "Eigen Vector 4 : 6.583611572767363%\n",
            "Eigen Vector 5 : 5.48437514883817%\n",
            "Eigen Vector 6 : 4.727590037611558%\n",
            "Eigen Vector 7 : 4.5521922220963695%\n",
            "Eigen Vector 8 : 3.050083049094018%\n",
            "Eigen Vector 9 : 2.0488731081918186%\n",
            "Eigen Vector 10 : 0.3070284108345344%\n"
          ]
        }
      ],
      "source": [
        "total = sum(eig_vals)\n",
        "for i, val in enumerate(eigen_pair):\n",
        "  print(f\"Eigen Vector {i} : {(val[0]/total)*100}%\")"
      ]
    },
    {
      "cell_type": "markdown",
      "metadata": {
        "id": "3deaG8UTIMy_"
      },
      "source": [
        "Finally we select how many Component we want (For example we want 6 component left from the original)"
      ]
    },
    {
      "cell_type": "code",
      "execution_count": null,
      "metadata": {
        "colab": {
          "base_uri": "https://localhost:8080/"
        },
        "id": "gI3n-PwrIFK7",
        "outputId": "0b4c9462-d81a-4822-b050-70b859222c5b"
      },
      "outputs": [
        {
          "name": "stdout",
          "output_type": "stream",
          "text": [
            "85.31% of all information will be retain\n"
          ]
        }
      ],
      "source": [
        "def extractComponent(n_components, eigen_pair):\n",
        "  total = np.sum([pair[0] for pair in eigen_pair])\n",
        "  information_retain = np.sum([eigen_pair[i][0] for i in range(n_components)])\n",
        "  print(f\"{(information_retain / total) * 100:.2f}% of all information will be retain\")\n",
        "  len_max = len(eigen_pair[0][1])\n",
        "  w = np.hstack(tuple([eigen_pair[i][1].reshape(len_max,1) for i in range(n_components)]))\n",
        "  return w\n",
        "w = extractComponent(6, eigen_pair)"
      ]
    },
    {
      "cell_type": "code",
      "execution_count": null,
      "metadata": {
        "colab": {
          "base_uri": "https://localhost:8080/"
        },
        "id": "EZvT3J6vLcym",
        "outputId": "cf0b5ccd-529f-4728-c2a9-10445f9d0797"
      },
      "outputs": [
        {
          "data": {
            "text/plain": [
              "array([[ 0.2443545 ,  0.33062133, -0.43111007, -0.17782952,  0.15485058,\n",
              "         0.17529538],\n",
              "       [ 0.37670505,  0.12089292,  0.31210914, -0.22049429, -0.16253674,\n",
              "         0.49027907],\n",
              "       [-0.14113573,  0.18766334, -0.59444432,  0.26391015,  0.16766189,\n",
              "        -0.20257358],\n",
              "       [-0.34205543,  0.33778128,  0.159044  , -0.1695389 ,  0.33407079,\n",
              "         0.26567355],\n",
              "       [ 0.29149583,  0.31265668,  0.01516711,  0.25394745, -0.61309035,\n",
              "        -0.14911674],\n",
              "       [-0.43505064,  0.07064598,  0.11784588,  0.35052152, -0.21506891,\n",
              "         0.33057996],\n",
              "       [-0.48760413,  0.08770501,  0.10239433,  0.20854572, -0.15636852,\n",
              "         0.14516366],\n",
              "       [ 0.04384248,  0.58436182,  0.17611652, -0.07383349,  0.30442414,\n",
              "        -0.01194284],\n",
              "       [ 0.21321871, -0.15505733,  0.45669635,  0.41723609,  0.47362516,\n",
              "        -0.27453074],\n",
              "       [ 0.29975176,  0.18939323, -0.0700649 ,  0.63475752,  0.12074316,\n",
              "         0.3061698 ],\n",
              "       [ 0.11059299, -0.4636078 , -0.26262707,  0.08981376,  0.1781292 ,\n",
              "         0.54354242]])"
            ]
          },
          "execution_count": 113,
          "metadata": {},
          "output_type": "execute_result"
        }
      ],
      "source": [
        "w"
      ]
    },
    {
      "cell_type": "markdown",
      "metadata": {
        "id": "ZamEw6pXLuvC"
      },
      "source": [
        "After that we can apply matrix w to X_std to reduced dimension of all feature"
      ]
    },
    {
      "cell_type": "code",
      "execution_count": null,
      "metadata": {
        "colab": {
          "base_uri": "https://localhost:8080/"
        },
        "id": "PPj-RfmqLd71",
        "outputId": "8e802b27-d9d5-465f-df7a-76138ee61f8b"
      },
      "outputs": [
        {
          "data": {
            "text/plain": [
              "array([[-1.41124626, -0.56091442, -0.02940485, -0.54418653,  0.23237356,\n",
              "        -0.30928183],\n",
              "       [ 2.39061574, -0.51213698, -1.96136284,  0.38088506,  0.50161755,\n",
              "        -0.3411601 ],\n",
              "       [ 2.64855663, -1.10994882,  1.78412056, -0.43646606, -0.15803717,\n",
              "         1.59545338],\n",
              "       ...,\n",
              "       [-1.06545328,  0.66104602,  1.50989241,  0.70734618, -2.07057489,\n",
              "        -0.04174814],\n",
              "       [-2.05391365,  0.79029077, -0.1384217 ,  0.5698339 , -0.19319462,\n",
              "        -0.43087233],\n",
              "       [ 2.29884543,  0.40367349,  2.58407161, -0.3712069 ,  0.13622073,\n",
              "        -0.34506941]])"
            ]
          },
          "execution_count": 114,
          "metadata": {},
          "output_type": "execute_result"
        }
      ],
      "source": [
        "X_PCA_Scratch = X_train.dot(w)\n",
        "X_PCA_Scratch"
      ]
    },
    {
      "cell_type": "markdown",
      "metadata": {
        "id": "BtwAej9XApBB"
      },
      "source": [
        "# PCA From SciKit Learn API"
      ]
    },
    {
      "cell_type": "code",
      "execution_count": null,
      "metadata": {
        "id": "i7-TkfdE7JlP"
      },
      "outputs": [],
      "source": [
        "from sklearn.decomposition import PCA\n",
        "sklearn_pca = PCA(n_components=6)\n",
        "X_PCA_Scikit = sklearn_pca.fit_transform(X_train)"
      ]
    },
    {
      "cell_type": "code",
      "execution_count": null,
      "metadata": {
        "colab": {
          "base_uri": "https://localhost:8080/"
        },
        "id": "Wdxfr0ltApNU",
        "outputId": "6829ce7b-f5cc-44f1-b1ad-ab8d50f9d03c"
      },
      "outputs": [
        {
          "data": {
            "text/plain": [
              "array([[ 1.41124626, -0.56091442,  0.02940485, -0.54418653, -0.23237356,\n",
              "        -0.30928183],\n",
              "       [-2.39061574, -0.51213698,  1.96136284,  0.38088506, -0.50161755,\n",
              "        -0.3411601 ],\n",
              "       [-2.64855663, -1.10994882, -1.78412056, -0.43646606,  0.15803717,\n",
              "         1.59545338],\n",
              "       ...,\n",
              "       [ 1.06545328,  0.66104602, -1.50989241,  0.70734618,  2.07057489,\n",
              "        -0.04174814],\n",
              "       [ 2.05391365,  0.79029077,  0.1384217 ,  0.5698339 ,  0.19319462,\n",
              "        -0.43087233],\n",
              "       [-2.29884543,  0.40367349, -2.58407161, -0.3712069 , -0.13622073,\n",
              "        -0.34506941]])"
            ]
          },
          "execution_count": 116,
          "metadata": {},
          "output_type": "execute_result"
        }
      ],
      "source": [
        "X_PCA_Scikit"
      ]
    },
    {
      "cell_type": "markdown",
      "metadata": {
        "id": "9wFfbMBtAtw7"
      },
      "source": [
        "# Uses"
      ]
    },
    {
      "cell_type": "code",
      "execution_count": null,
      "metadata": {
        "id": "78YWIAN9PCcz"
      },
      "outputs": [],
      "source": [
        "import time\n",
        "from sklearn.ensemble import RandomForestClassifier\n",
        "from sklearn.metrics import classification_report\n",
        "def applyrandomforest(trainX, testX, trainY, testY):\n",
        "    \"\"\"\n",
        "    Apply Random Forest on input dataset.\n",
        "    \"\"\"\n",
        "    start = time.process_time()\n",
        "    forest = RandomForestClassifier(n_estimators=700, max_features='sqrt', max_depth=15)\n",
        "    forest.fit(trainX, trainY)\n",
        "    print(\"Time Elapsed: %s secs\" % (time.process_time() - start))\n",
        "    prediction = forest.predict(testX)\n",
        "    print(\"Classification Report after applying Random Forest: \")\n",
        "    print(\"----------------------------------------------------\")\n",
        "    print(classification_report(testY, prediction))"
      ]
    },
    {
      "cell_type": "code",
      "execution_count": null,
      "metadata": {
        "colab": {
          "base_uri": "https://localhost:8080/"
        },
        "id": "Xztm_YUWPkZI",
        "outputId": "85d12b85-da4a-4509-c8f5-8232835ea4c9"
      },
      "outputs": [
        {
          "name": "stdout",
          "output_type": "stream",
          "text": [
            "Time Elapsed: 13.199667266999995 secs\n",
            "Classification Report after applying Random Forest: \n",
            "----------------------------------------------------\n",
            "              precision    recall  f1-score   support\n",
            "\n",
            "           3       0.00      0.00      0.00         6\n",
            "           4       0.75      0.07      0.13        43\n",
            "           5       0.67      0.72      0.70       402\n",
            "           6       0.66      0.76      0.70       597\n",
            "           7       0.72      0.52      0.61       215\n",
            "           8       0.92      0.33      0.49        36\n",
            "           9       0.00      0.00      0.00         1\n",
            "\n",
            "    accuracy                           0.67      1300\n",
            "   macro avg       0.53      0.34      0.37      1300\n",
            "weighted avg       0.68      0.67      0.66      1300\n",
            "\n",
            "Time Elapsed: 12.180999718999999 secs\n",
            "Classification Report after applying Random Forest: \n",
            "----------------------------------------------------\n",
            "              precision    recall  f1-score   support\n",
            "\n",
            "           3       0.00      0.00      0.00         6\n",
            "           4       0.80      0.09      0.17        43\n",
            "           5       0.68      0.73      0.70       402\n",
            "           6       0.67      0.77      0.72       597\n",
            "           7       0.72      0.53      0.61       215\n",
            "           8       0.92      0.33      0.49        36\n",
            "           9       0.00      0.00      0.00         1\n",
            "\n",
            "    accuracy                           0.68      1300\n",
            "   macro avg       0.54      0.35      0.38      1300\n",
            "weighted avg       0.69      0.68      0.67      1300\n",
            "\n"
          ]
        }
      ],
      "source": [
        "import warnings\n",
        "warnings.filterwarnings(\"ignore\")\n",
        "X_PCA_Scikit_test = sklearn_pca.transform(X_test)\n",
        "# Normal Dataset\n",
        "applyrandomforest(X_train, X_test, y_train, y_test)\n",
        "# PCA Dataset\n",
        "applyrandomforest(X_PCA_Scikit, X_PCA_Scikit_test, y_train, y_test)"
      ]
    },
    {
      "cell_type": "markdown",
      "metadata": {
        "id": "NNd3w0sFRMl3"
      },
      "source": [
        "PCA is often applied to\n",
        "\n",
        "1. Reduce Computing Time\n",
        "2. Generalize Data (Reduce Overfitting)"
      ]
    },
    {
      "cell_type": "markdown",
      "metadata": {
        "id": "YvCBoSTW4ZDU"
      },
      "source": [
        "# Homework\n",
        "\n",
        "จาก Mushroom Dataset ที่กำหนด จงใช้ PCA เพื่อลดจำนวน features ของใน dataset นี้ลง และบันทึกผลการทดลองปรับจำนวน features ลดลงที่ต่างกันมาอย่างน้อย 5 จำนวน\n",
        "\n",
        "สรุปผลการทดลองปรับ Mushroom Dataset\n",
        " 1. นี้มีจำนวน features ทั้งหมดเท่าใด\n",
        " 2. ลดจำนวน features เป็น components จำนวนทั้งหมดเท่าใดจึงจะทำให้มีค่า accuracy ลดลงไม่ต่ำเกินกว่า 5%, 10% และ 15% จากค่า base accuracy และได้ค่า accuracy ใหม่เป็นเท่าใด\n",
        " 3. หากใช้จำนวน components = 5 จะมีค่า explained variance ทั้งหมดเป็นกี่เปอร์เซ็นต์ของ dataset นี้\n",
        " 4. หากลดลงเป็นจำนวน components = 4 จะสูญเสียข้อมูลกี่เปอร์เซ็นต์จากที่ใช้จำนวน components = 5\n",
        "\n",
        "``` python\n",
        "# /// homework code for ML-based practice of PCA ///\n",
        "mushroom = pd.read_csv('https://archive.ics.uci.edu/static/public/73/data.csv').dropna()\n",
        "mushroom.head()\n",
        "\n",
        "# poisonous column is the label (edible=e, poisonous=p)\n",
        "pd.unique(mushroom['poisonous'])\n",
        "\n",
        "X = mushroom.drop(columns='poisonous')\n",
        "y = mushroom['poisonous']\n",
        "pd.unique(y)\n",
        "\n",
        "# ...Your code transform to less dimensional data...\n",
        "# ...\n",
        "# ...\n",
        "# ...\n",
        "\n",
        "# Observing PCA variance ratio effects\n",
        "from sklearn.decomposition import PCA\n",
        "pca = PCA().fit(X_train)\n",
        "\n",
        "def plot_variance_ratio(pca):\n",
        "  plt.plot(range(1, len(pca.explained_variance_ratio_) + 1),\n",
        "          np.cumsum(pca.explained_variance_ratio_),\n",
        "          linestyle='-', marker='o')\n",
        "  plt.grid(linestyle='-', linewidth=1)\n",
        "  plt.xlim([0,21])\n",
        "  plt.ylim([0,1])\n",
        "  plt.xlabel('Number of components')\n",
        "  plt.ylabel('Cumulative explained variance')\n",
        "  plt.show()\n",
        "\n",
        "plot_variance_ratio(pca)\n",
        "\n",
        "pca_variance_ratio = pca.explained_variance_ratio_\n",
        "print(pca_variance_ratio)\n",
        "print('Number of components:', len(pca_variance_ratio))\n",
        "\n",
        "# ... Your code to predict through logistic regression ...\n",
        "# ...\n",
        "# ...\n",
        "# ...\n",
        "\n",
        "\n",
        "\n",
        "  ```"
      ]
    }
  ],
  "metadata": {
    "colab": {
      "provenance": []
    },
    "kernelspec": {
      "display_name": "Python 3",
      "name": "python3"
    },
    "language_info": {
      "name": "python"
    }
  },
  "nbformat": 4,
  "nbformat_minor": 0
}