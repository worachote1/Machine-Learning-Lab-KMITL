{
  "cells": [
    {
      "cell_type": "markdown",
      "metadata": {
        "id": "7IOn5fnf5Edd"
      },
      "source": [
        "# วิธีการสร้าง Torch tensor เเบบต่าง ๆ"
      ]
    },
    {
      "cell_type": "code",
      "execution_count": null,
      "metadata": {
        "id": "J0qQ21b3UKwj"
      },
      "outputs": [],
      "source": [
        "import numpy as np\n",
        "import torch"
      ]
    },
    {
      "cell_type": "markdown",
      "metadata": {
        "id": "w09pH0OH6Qgw"
      },
      "source": [
        "การสร้างเเบบที่ใช้ array ของ Python ในการสร้าง"
      ]
    },
    {
      "cell_type": "code",
      "execution_count": null,
      "metadata": {
        "colab": {
          "base_uri": "https://localhost:8080/"
        },
        "id": "rzd-dqw82-CG",
        "outputId": "98674e77-c6f7-493c-c97b-0fb914a06b66"
      },
      "outputs": [
        {
          "output_type": "stream",
          "name": "stdout",
          "text": [
            "tensor([[1, 2],\n",
            "        [3, 4]])\n"
          ]
        }
      ],
      "source": [
        "data = [[1, 2], [3, 4]]\n",
        "x_data = torch.tensor(data)\n",
        "print(x_data)"
      ]
    },
    {
      "cell_type": "markdown",
      "metadata": {
        "id": "YNFVjKuK6iTs"
      },
      "source": [
        "การสร้างเเบบที่สามารถใช้ Numpy array เป็นต้นเเบบเพื่อที่จะสร้าง tensor ที่มีค่าเเบบเดียวกันได้"
      ]
    },
    {
      "cell_type": "code",
      "execution_count": null,
      "metadata": {
        "colab": {
          "base_uri": "https://localhost:8080/"
        },
        "id": "jdyrXoqj8QGM",
        "outputId": "3819548e-2729-4912-c97e-63953bec8e28"
      },
      "outputs": [
        {
          "output_type": "stream",
          "name": "stdout",
          "text": [
            "Numpy array :\n",
            " [[5 6]\n",
            " [7 8]]\n",
            "Torch tensor :\n",
            " tensor([[5, 6],\n",
            "        [7, 8]])\n"
          ]
        }
      ],
      "source": [
        "import numpy as np\n",
        "data = [[5, 6], [7, 8]]\n",
        "np_array = np.array(data)\n",
        "print(\"Numpy array :\\n\", np_array)\n",
        "import torch\n",
        "x_np = torch.from_numpy(np_array)\n",
        "print(\"Torch tensor :\\n\", x_np)"
      ]
    },
    {
      "cell_type": "markdown",
      "metadata": {
        "id": "8SQG2WkI8o2r"
      },
      "source": [
        "การสร้าง tensor เเบบที่กำหนดรูปร่าง (shape) ให้คล้ายกับ tensor ตัวอย่าง x_data"
      ]
    },
    {
      "cell_type": "code",
      "execution_count": null,
      "metadata": {
        "colab": {
          "base_uri": "https://localhost:8080/"
        },
        "id": "AJ_WbvxW8uNU",
        "outputId": "e692095e-18d9-4aff-91c6-2de8fc96a215"
      },
      "outputs": [
        {
          "output_type": "stream",
          "name": "stdout",
          "text": [
            "Ones Tensor: \n",
            " tensor([[1, 1],\n",
            "        [1, 1]]) \n",
            "\n",
            "Random Tensor: \n",
            " tensor([[0.7925, 0.6744],\n",
            "        [0.2238, 0.1440]]) \n",
            "\n"
          ]
        }
      ],
      "source": [
        "x_ones = torch.ones_like(x_data) # retains the shape of x_data and fill all the value with 1\n",
        "print(f\"Ones Tensor: \\n {x_ones} \\n\")\n",
        "\n",
        "x_rand = torch.rand_like(x_data, dtype=torch.float) # retains the shape of x_data and fill all the value with random float number in range of 0 to 1\n",
        "print(f\"Random Tensor: \\n {x_rand} \\n\")"
      ]
    },
    {
      "cell_type": "markdown",
      "metadata": {
        "id": "GqCxhdnG92-Y"
      },
      "source": [
        "การสร้าง tensor เเบบที่กำหนดรูปร่าง (shape) ได้"
      ]
    },
    {
      "cell_type": "code",
      "execution_count": null,
      "metadata": {
        "colab": {
          "base_uri": "https://localhost:8080/"
        },
        "id": "9RILCYlk9Aaa",
        "outputId": "ef4ad123-d971-42ae-ba3d-2f0aba1c0063"
      },
      "outputs": [
        {
          "output_type": "stream",
          "name": "stdout",
          "text": [
            "Random Tensor: \n",
            " tensor([[0.8619, 0.2578, 0.6023],\n",
            "        [0.1279, 0.7547, 0.7277]]) \n",
            "\n",
            "Ones Tensor: \n",
            " tensor([[1., 1., 1.],\n",
            "        [1., 1., 1.]]) \n",
            "\n",
            "Zeros Tensor: \n",
            " tensor([[0., 0., 0.],\n",
            "        [0., 0., 0.]])\n"
          ]
        }
      ],
      "source": [
        "shape = (2, 3,) # (ROW, COLUMN, DEPTH, ...)\n",
        "rand_tensor = torch.rand(shape)\n",
        "ones_tensor = torch.ones(shape)\n",
        "zeros_tensor = torch.zeros(shape)\n",
        "\n",
        "print(f\"Random Tensor: \\n {rand_tensor} \\n\")\n",
        "print(f\"Ones Tensor: \\n {ones_tensor} \\n\")\n",
        "print(f\"Zeros Tensor: \\n {zeros_tensor}\")"
      ]
    },
    {
      "cell_type": "markdown",
      "metadata": {
        "id": "qlXE-T-X-NTV"
      },
      "source": [
        "หรือสามารถส่งผ่าน shape ที่ต้องการผ่าน args โดยตรง"
      ]
    },
    {
      "cell_type": "code",
      "execution_count": null,
      "metadata": {
        "colab": {
          "base_uri": "https://localhost:8080/"
        },
        "id": "1ZZ3tuvn-otA",
        "outputId": "57b1fca2-679e-4a7d-d359-93bf3efe2b8a"
      },
      "outputs": [
        {
          "output_type": "stream",
          "name": "stdout",
          "text": [
            "Shape of tensor: torch.Size([3, 4])\n",
            "Datatype of tensor: torch.float32\n",
            "Device tensor is stored on: cpu\n"
          ]
        }
      ],
      "source": [
        "tensor = torch.rand(3, 4)\n",
        "\n",
        "print(f\"Shape of tensor: {tensor.shape}\")\n",
        "print(f\"Datatype of tensor: {tensor.dtype}\")\n",
        "print(f\"Device tensor is stored on: {tensor.device}\")"
      ]
    },
    {
      "cell_type": "markdown",
      "metadata": {
        "id": "e9IldAOc-pEi"
      },
      "source": [
        "# ข้อเเตกต่างระหว่าง Torch tensor กับ Numpy array"
      ]
    },
    {
      "cell_type": "markdown",
      "metadata": {
        "id": "3UlZEdIF-02c"
      },
      "source": [
        "Torch tensor มีข้อเเตกต่างจาก Numpy array ตรงที่ Numpy array นั้นเวลาที่จะประมวลผลจำเป็นต้องใช้ CPU เท่านั้นในขณะที่ Torch tensor สามารถประมวลผลผ่าน GPU ด้วย CUDA เพื่อที่จะเร่งความเร็วในการประมวลผลได้"
      ]
    },
    {
      "cell_type": "code",
      "execution_count": null,
      "metadata": {
        "id": "NB5Z_Dcp-0cF"
      },
      "outputs": [],
      "source": [
        "# We move our tensor to the GPU if available\n",
        "if torch.cuda.is_available():\n",
        "  tensor = tensor.to('cuda')\n",
        "  print(f\"Device tensor is stored on: {tensor.device}\")"
      ]
    },
    {
      "cell_type": "markdown",
      "metadata": {
        "id": "VEJ_GhhaEof1"
      },
      "source": [
        "การคูณ $2^2$ ใน Numpy array"
      ]
    },
    {
      "cell_type": "code",
      "execution_count": null,
      "metadata": {
        "colab": {
          "base_uri": "https://localhost:8080/"
        },
        "id": "D0eU_oOd0DCp",
        "outputId": "bb29520b-a35c-415c-88dd-329c7255db8d"
      },
      "outputs": [
        {
          "output_type": "stream",
          "name": "stdout",
          "text": [
            "[[ 4  8]\n",
            " [12 16]\n",
            " [20 24]\n",
            " [28 32]\n",
            " [36 40]]\n"
          ]
        }
      ],
      "source": [
        "A = np.array([[1,2], [3,4], [5,6], [7,8], [9,10]])\n",
        "for i in range(2):\n",
        "  A *= 2\n",
        "print(A)"
      ]
    },
    {
      "cell_type": "code",
      "execution_count": null,
      "metadata": {
        "colab": {
          "base_uri": "https://localhost:8080/"
        },
        "id": "XPx8nESXEnth",
        "outputId": "c1ecdbe2-9e5d-4ee5-c33d-6646aeb335e1"
      },
      "outputs": [
        {
          "output_type": "execute_result",
          "data": {
            "text/plain": [
              "tensor([[ 4,  8],\n",
              "        [12, 16],\n",
              "        [20, 24],\n",
              "        [28, 32],\n",
              "        [36, 40]])"
            ]
          },
          "metadata": {},
          "execution_count": 9
        }
      ],
      "source": [
        "T = torch.tensor([[1,2], [3,4], [5,6], [7,8], [9,10]])\n",
        "T.mul(2**2)"
      ]
    },
    {
      "cell_type": "markdown",
      "metadata": {
        "id": "JcqHlu88ApAf"
      },
      "source": [
        "# การเเก้ไข tensor"
      ]
    },
    {
      "cell_type": "markdown",
      "metadata": {
        "id": "x82j3n9yA8Fc"
      },
      "source": [
        "นอกจากนั้นเเล้ว tensor ยังเสนอวิธีต่างๆในการเเก้ไขที่ง่ายต่อการใช้งานอีกด้วย"
      ]
    },
    {
      "cell_type": "code",
      "execution_count": null,
      "metadata": {
        "colab": {
          "base_uri": "https://localhost:8080/"
        },
        "id": "7qxEnbTRDP0Z",
        "outputId": "f0f69efa-63f9-4ecd-d7a5-e35a25db5e27"
      },
      "outputs": [
        {
          "output_type": "stream",
          "name": "stdout",
          "text": [
            "tensor([[0.4391, 0.6524, 0.8845, 0.4004],\n",
            "        [0.7932, 0.3166, 0.3491, 0.6001],\n",
            "        [0.4743, 0.8598, 0.3384, 0.7108]]) \n",
            "\n",
            "tensor([[5.4391, 5.6524, 5.8845, 5.4004],\n",
            "        [5.7932, 5.3166, 5.3491, 5.6001],\n",
            "        [5.4743, 5.8598, 5.3384, 5.7108]])\n"
          ]
        }
      ],
      "source": [
        "print(tensor, \"\\n\")\n",
        "tensor.add_(5) # add 5 to the entire tensor\n",
        "print(tensor)"
      ]
    },
    {
      "cell_type": "code",
      "execution_count": null,
      "metadata": {
        "colab": {
          "base_uri": "https://localhost:8080/"
        },
        "id": "1pBJ-SL-AFpV",
        "outputId": "e8929682-4642-4d75-ebd9-908cd8d8cf50"
      },
      "outputs": [
        {
          "output_type": "stream",
          "name": "stdout",
          "text": [
            "tensor([[1., 1., 1., 1.],\n",
            "        [1., 1., 1., 1.],\n",
            "        [1., 1., 1., 0.],\n",
            "        [1., 1., 1., 1.]])\n"
          ]
        }
      ],
      "source": [
        "tensor = torch.ones(4, 4)\n",
        "tensor[2,3] = 0 # set value for specific point in tensor\n",
        "print(tensor)"
      ]
    },
    {
      "cell_type": "code",
      "execution_count": null,
      "metadata": {
        "colab": {
          "base_uri": "https://localhost:8080/"
        },
        "id": "fwC4zaRcAwHV",
        "outputId": "e1300966-f286-463a-8ca2-85d5d7b19ad3"
      },
      "outputs": [
        {
          "output_type": "stream",
          "name": "stdout",
          "text": [
            "Row concat : \n",
            " tensor([[1., 1., 1., 1.],\n",
            "        [1., 1., 1., 1.],\n",
            "        [1., 1., 1., 0.],\n",
            "        [1., 1., 1., 1.],\n",
            "        [1., 1., 1., 1.],\n",
            "        [1., 1., 1., 1.],\n",
            "        [1., 1., 1., 0.],\n",
            "        [1., 1., 1., 1.],\n",
            "        [1., 1., 1., 1.],\n",
            "        [1., 1., 1., 1.],\n",
            "        [1., 1., 1., 0.],\n",
            "        [1., 1., 1., 1.]])\n",
            "Column concat : \n",
            " tensor([[1., 1., 1., 1., 1., 1., 1., 1., 1., 1., 1., 1.],\n",
            "        [1., 1., 1., 1., 1., 1., 1., 1., 1., 1., 1., 1.],\n",
            "        [1., 1., 1., 0., 1., 1., 1., 0., 1., 1., 1., 0.],\n",
            "        [1., 1., 1., 1., 1., 1., 1., 1., 1., 1., 1., 1.]])\n"
          ]
        }
      ],
      "source": [
        "tensor = torch.ones(4, 4)\n",
        "tensor[2,3] = 0\n",
        "t1 = torch.cat([tensor, tensor, tensor], dim=0)\n",
        "print(\"Row concat : \\n\",t1)\n",
        "t2 = torch.cat([tensor, tensor, tensor], dim=1)\n",
        "print(\"Column concat : \\n\", t2)"
      ]
    },
    {
      "cell_type": "markdown",
      "metadata": {
        "id": "Wzf_10jCC2SQ"
      },
      "source": [
        "การคำนวณเชิง Matrix"
      ]
    },
    {
      "cell_type": "code",
      "execution_count": null,
      "metadata": {
        "colab": {
          "base_uri": "https://localhost:8080/"
        },
        "id": "k9C5EaVTBJTy",
        "outputId": "7063792b-ab5d-42ee-f2c4-04256a15670c"
      },
      "outputs": [
        {
          "output_type": "stream",
          "name": "stdout",
          "text": [
            "T1: \n",
            " tensor([[1, 2],\n",
            "        [3, 4]]) \n",
            "T2: \n",
            " tensor([[5, 6],\n",
            "        [7, 8]])\n",
            "tensor.mul(tensor) \n",
            " tensor([[ 5, 12],\n",
            "        [21, 32]]) \n",
            "\n",
            "tensor * tensor \n",
            " tensor([[ 5, 12],\n",
            "        [21, 32]])\n"
          ]
        }
      ],
      "source": [
        "# tensor1 = torch.rand(4,4)\n",
        "# tensor2 = torch.rand(4,4)\n",
        "\n",
        "tensor1 = torch.tensor([[1,2],[3,4]])\n",
        "tensor2 = torch.tensor([[5,6],[7,8]])\n",
        "print(\"T1: \\n\", tensor1, \"\\nT2: \\n\", tensor2)\n",
        "# This computes the element-wise product\n",
        "print(f\"tensor.mul(tensor) \\n {tensor1.mul(tensor2)} \\n\")\n",
        "# Alternative syntax:\n",
        "print(f\"tensor * tensor \\n {tensor1 * tensor2}\")"
      ]
    },
    {
      "cell_type": "code",
      "execution_count": null,
      "metadata": {
        "colab": {
          "base_uri": "https://localhost:8080/"
        },
        "id": "pAHCsh8_Dj9Q",
        "outputId": "090d0a3f-c302-4543-e7c5-c59506c06e14"
      },
      "outputs": [
        {
          "output_type": "stream",
          "name": "stdout",
          "text": [
            "tensor.matmul(tensor) \n",
            " tensor([[3., 3., 3., 3.],\n",
            "        [0., 0., 0., 0.],\n",
            "        [3., 3., 3., 3.],\n",
            "        [3., 3., 3., 3.]]) \n",
            "\n",
            "tensor @ tensor \n",
            " tensor([[3., 3., 3., 3.],\n",
            "        [0., 0., 0., 0.],\n",
            "        [3., 3., 3., 3.],\n",
            "        [3., 3., 3., 3.]])\n"
          ]
        }
      ],
      "source": [
        "tensor = torch.ones(4, 4)\n",
        "tensor[1,] = 0\n",
        "print(f\"tensor.matmul(tensor) \\n {tensor.matmul(tensor)} \\n\")\n",
        "# Alternative syntax:\n",
        "print(f\"tensor @ tensor \\n {tensor @ tensor}\")"
      ]
    },
    {
      "cell_type": "code",
      "execution_count": null,
      "metadata": {
        "colab": {
          "base_uri": "https://localhost:8080/"
        },
        "id": "8Q4RTWWPCDFx",
        "outputId": "41494a02-951d-4f0b-ff4c-d665bc92ae0e"
      },
      "outputs": [
        {
          "output_type": "stream",
          "name": "stdout",
          "text": [
            "tensor.matmul(tensor.T) \n",
            " tensor([[4., 0., 4., 4.],\n",
            "        [0., 0., 0., 0.],\n",
            "        [4., 0., 4., 4.],\n",
            "        [4., 0., 4., 4.]]) \n",
            "\n",
            "tensor @ tensor.T \n",
            " tensor([[4., 0., 4., 4.],\n",
            "        [0., 0., 0., 0.],\n",
            "        [4., 0., 4., 4.],\n",
            "        [4., 0., 4., 4.]])\n"
          ]
        }
      ],
      "source": [
        "print(f\"tensor.matmul(tensor.T) \\n {tensor.matmul(tensor.t())} \\n\")\n",
        "# Alternative syntax:\n",
        "print(f\"tensor @ tensor.T \\n {tensor @ tensor.t()}\")"
      ]
    },
    {
      "cell_type": "markdown",
      "metadata": {
        "id": "OjWDTkMQGJGS"
      },
      "source": [
        "# HW1_2\n",
        "1. จงเขียนโค้ดเพื่อให้ได้ผลลัพธ์ดังภาพ\n",
        "\n",
        "```\n",
        "tensor([[1., 2., 3., 4.],\n",
        "        [2., 3., 4., 5.],\n",
        "        [3., 4., 5., 6.],\n",
        "        [4., 5., 6., 7.]])\n",
        "```\n",
        "โดยเริ่มต้นจาก\n",
        " tensor = torch.ones(4, 4)\n",
        "\n"
      ]
    },
    {
      "cell_type": "code",
      "source": [
        "tensor = torch.ones(4, 4)\n",
        "tensor"
      ],
      "metadata": {
        "colab": {
          "base_uri": "https://localhost:8080/"
        },
        "id": "BexzlCfPdaSV",
        "outputId": "3f0de208-c553-4de1-b9bc-c1c8a01e179b"
      },
      "execution_count": null,
      "outputs": [
        {
          "output_type": "execute_result",
          "data": {
            "text/plain": [
              "tensor([[1., 1., 1., 1.],\n",
              "        [1., 1., 1., 1.],\n",
              "        [1., 1., 1., 1.],\n",
              "        [1., 1., 1., 1.]])"
            ]
          },
          "metadata": {},
          "execution_count": 16
        }
      ]
    },
    {
      "cell_type": "code",
      "source": [
        "increment_tensor = torch.arange(4)\n",
        "for Idx in range(tensor.size(0)):\n",
        "  tensor[Idx] = tensor[Idx] + (increment_tensor + 1*Idx)\n",
        "\n",
        "tensor"
      ],
      "metadata": {
        "colab": {
          "base_uri": "https://localhost:8080/"
        },
        "id": "hAOnrdqvdd_p",
        "outputId": "a7d3c7c0-2363-4aaa-ccb8-60f2408e860e"
      },
      "execution_count": null,
      "outputs": [
        {
          "output_type": "execute_result",
          "data": {
            "text/plain": [
              "tensor([[1., 2., 3., 4.],\n",
              "        [2., 3., 4., 5.],\n",
              "        [3., 4., 5., 6.],\n",
              "        [4., 5., 6., 7.]])"
            ]
          },
          "metadata": {},
          "execution_count": 17
        }
      ]
    }
  ],
  "metadata": {
    "colab": {
      "provenance": []
    },
    "kernelspec": {
      "display_name": "Python 3",
      "language": "python",
      "name": "python3"
    },
    "language_info": {
      "codemirror_mode": {
        "name": "ipython",
        "version": 3
      },
      "file_extension": ".py",
      "mimetype": "text/x-python",
      "name": "python",
      "nbconvert_exporter": "python",
      "pygments_lexer": "ipython3",
      "version": "3.13.0"
    }
  },
  "nbformat": 4,
  "nbformat_minor": 0
}