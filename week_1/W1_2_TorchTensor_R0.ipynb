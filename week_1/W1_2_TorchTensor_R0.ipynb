{
 "cells": [
  {
   "cell_type": "markdown",
   "metadata": {
    "id": "7IOn5fnf5Edd"
   },
   "source": [
    "# วิธีการสร้าง Torch tensor เเบบต่าง ๆ"
   ]
  },
  {
   "cell_type": "code",
   "execution_count": null,
   "metadata": {
    "id": "J0qQ21b3UKwj"
   },
   "outputs": [],
   "source": [
    "import numpy as np\n",
    "import torch"
   ]
  },
  {
   "cell_type": "markdown",
   "metadata": {
    "id": "w09pH0OH6Qgw"
   },
   "source": [
    "การสร้างเเบบที่ใช้ array ของ Python ในการสร้าง"
   ]
  },
  {
   "cell_type": "code",
   "execution_count": null,
   "metadata": {
    "colab": {
     "base_uri": "https://localhost:8080/"
    },
    "id": "rzd-dqw82-CG",
    "outputId": "33476034-4a09-49db-fba7-e2b78fd94e80"
   },
   "outputs": [
    {
     "name": "stdout",
     "output_type": "stream",
     "text": [
      "tensor([[1, 2],\n",
      "        [3, 4]])\n"
     ]
    }
   ],
   "source": [
    "data = [[1, 2], [3, 4]]\n",
    "x_data = torch.tensor(data)\n",
    "print(x_data)"
   ]
  },
  {
   "cell_type": "markdown",
   "metadata": {
    "id": "YNFVjKuK6iTs"
   },
   "source": [
    "การสร้างเเบบที่สามารถใช้ Numpy array เป็นต้นเเบบเพื่อที่จะสร้าง tensor ที่มีค่าเเบบเดียวกันได้"
   ]
  },
  {
   "cell_type": "code",
   "execution_count": 4,
   "metadata": {
    "colab": {
     "base_uri": "https://localhost:8080/"
    },
    "id": "jdyrXoqj8QGM",
    "outputId": "4704496a-fa15-4585-a381-4da0c932c4c0"
   },
   "outputs": [
    {
     "name": "stdout",
     "output_type": "stream",
     "text": [
      "Numpy array :\n",
      " [[5 6]\n",
      " [7 8]]\n",
      "Torch tensor :\n",
      " tensor([[5, 6],\n",
      "        [7, 8]])\n"
     ]
    }
   ],
   "source": [
    "import numpy as np\n",
    "data = [[5, 6], [7, 8]]\n",
    "np_array = np.array(data)\n",
    "print(\"Numpy array :\\n\", np_array)\n",
    "import torch\n",
    "x_np = torch.from_numpy(np_array)\n",
    "print(\"Torch tensor :\\n\", x_np)"
   ]
  },
  {
   "cell_type": "markdown",
   "metadata": {
    "id": "8SQG2WkI8o2r"
   },
   "source": [
    "การสร้าง tensor เเบบที่กำหนดรูปร่าง (shape) ให้คล้ายกับ tensor ตัวอย่าง x_data"
   ]
  },
  {
   "cell_type": "code",
   "execution_count": null,
   "metadata": {
    "colab": {
     "base_uri": "https://localhost:8080/"
    },
    "id": "AJ_WbvxW8uNU",
    "outputId": "354f6cc6-e3a0-41db-c1d7-f000d470b42d"
   },
   "outputs": [
    {
     "name": "stdout",
     "output_type": "stream",
     "text": [
      "Ones Tensor: \n",
      " tensor([[1, 1],\n",
      "        [1, 1]]) \n",
      "\n",
      "Random Tensor: \n",
      " tensor([[0.9492, 0.8935],\n",
      "        [0.8074, 0.1190]]) \n",
      "\n"
     ]
    }
   ],
   "source": [
    "x_ones = torch.ones_like(x_data) # retains the shape of x_data and fill all the value with 1\n",
    "print(f\"Ones Tensor: \\n {x_ones} \\n\")\n",
    "\n",
    "x_rand = torch.rand_like(x_data, dtype=torch.float) # retains the shape of x_data and fill all the value with random float number in range of 0 to 1\n",
    "print(f\"Random Tensor: \\n {x_rand} \\n\")"
   ]
  },
  {
   "cell_type": "markdown",
   "metadata": {
    "id": "GqCxhdnG92-Y"
   },
   "source": [
    "การสร้าง tensor เเบบที่กำหนดรูปร่าง (shape) ได้"
   ]
  },
  {
   "cell_type": "code",
   "execution_count": null,
   "metadata": {
    "colab": {
     "base_uri": "https://localhost:8080/"
    },
    "id": "9RILCYlk9Aaa",
    "outputId": "73ba5043-b56d-456f-fd72-ee3819638bc4"
   },
   "outputs": [
    {
     "name": "stdout",
     "output_type": "stream",
     "text": [
      "Random Tensor: \n",
      " tensor([[0.8032, 0.4798, 0.2574],\n",
      "        [0.5475, 0.9230, 0.2620]]) \n",
      "\n",
      "Ones Tensor: \n",
      " tensor([[1., 1., 1.],\n",
      "        [1., 1., 1.]]) \n",
      "\n",
      "Zeros Tensor: \n",
      " tensor([[0., 0., 0.],\n",
      "        [0., 0., 0.]])\n"
     ]
    }
   ],
   "source": [
    "shape = (2, 3,) # (ROW, COLUMN, DEPTH, ...)\n",
    "rand_tensor = torch.rand(shape)\n",
    "ones_tensor = torch.ones(shape)\n",
    "zeros_tensor = torch.zeros(shape)\n",
    "\n",
    "print(f\"Random Tensor: \\n {rand_tensor} \\n\")\n",
    "print(f\"Ones Tensor: \\n {ones_tensor} \\n\")\n",
    "print(f\"Zeros Tensor: \\n {zeros_tensor}\")"
   ]
  },
  {
   "cell_type": "markdown",
   "metadata": {
    "id": "qlXE-T-X-NTV"
   },
   "source": [
    "หรือสามารถส่งผ่าน shape ที่ต้องการผ่าน args โดยตรง"
   ]
  },
  {
   "cell_type": "code",
   "execution_count": null,
   "metadata": {
    "colab": {
     "base_uri": "https://localhost:8080/"
    },
    "id": "1ZZ3tuvn-otA",
    "outputId": "d1af5910-01cf-4a79-d3dc-b81c23cebb49"
   },
   "outputs": [
    {
     "name": "stdout",
     "output_type": "stream",
     "text": [
      "Shape of tensor: torch.Size([3, 4])\n",
      "Datatype of tensor: torch.float32\n",
      "Device tensor is stored on: cpu\n"
     ]
    }
   ],
   "source": [
    "tensor = torch.rand(3, 4)\n",
    "\n",
    "print(f\"Shape of tensor: {tensor.shape}\")\n",
    "print(f\"Datatype of tensor: {tensor.dtype}\")\n",
    "print(f\"Device tensor is stored on: {tensor.device}\")"
   ]
  },
  {
   "cell_type": "markdown",
   "metadata": {
    "id": "e9IldAOc-pEi"
   },
   "source": [
    "# ข้อเเตกต่างระหว่าง Torch tensor กับ Numpy array"
   ]
  },
  {
   "cell_type": "markdown",
   "metadata": {
    "id": "3UlZEdIF-02c"
   },
   "source": [
    "Torch tensor มีข้อเเตกต่างจาก Numpy array ตรงที่ Numpy array นั้นเวลาที่จะประมวลผลจำเป็นต้องใช้ CPU เท่านั้นในขณะที่ Torch tensor สามารถประมวลผลผ่าน GPU ด้วย CUDA เพื่อที่จะเร่งความเร็วในการประมวลผลได้"
   ]
  },
  {
   "cell_type": "code",
   "execution_count": null,
   "metadata": {
    "id": "NB5Z_Dcp-0cF"
   },
   "outputs": [],
   "source": [
    "# We move our tensor to the GPU if available\n",
    "if torch.cuda.is_available():\n",
    "  tensor = tensor.to('cuda')\n",
    "  print(f\"Device tensor is stored on: {tensor.device}\")"
   ]
  },
  {
   "cell_type": "markdown",
   "metadata": {
    "id": "VEJ_GhhaEof1"
   },
   "source": [
    "การคูณ $2^2$ ใน Numpy array"
   ]
  },
  {
   "cell_type": "code",
   "execution_count": null,
   "metadata": {
    "colab": {
     "base_uri": "https://localhost:8080/"
    },
    "id": "D0eU_oOd0DCp",
    "outputId": "c3cc1d61-34b4-4115-d591-1db24a4112e8"
   },
   "outputs": [
    {
     "name": "stdout",
     "output_type": "stream",
     "text": [
      "[[ 4  8]\n",
      " [12 16]\n",
      " [20 24]\n",
      " [28 32]\n",
      " [36 40]]\n"
     ]
    }
   ],
   "source": [
    "A = np.array([[1,2], [3,4], [5,6], [7,8], [9,10]])\n",
    "for i in range(2):\n",
    "  A *= 2\n",
    "print(A)"
   ]
  },
  {
   "cell_type": "code",
   "execution_count": 16,
   "metadata": {
    "colab": {
     "base_uri": "https://localhost:8080/"
    },
    "id": "XPx8nESXEnth",
    "outputId": "00301983-a451-4025-cc7c-e4f442725f64"
   },
   "outputs": [
    {
     "data": {
      "text/plain": [
       "tensor([[ 4,  8],\n",
       "        [12, 16],\n",
       "        [20, 24],\n",
       "        [28, 32],\n",
       "        [36, 40]])"
      ]
     },
     "execution_count": 16,
     "metadata": {},
     "output_type": "execute_result"
    }
   ],
   "source": [
    "T = torch.tensor([[1,2], [3,4], [5,6], [7,8], [9,10]])\n",
    "T.mul(2**2)"
   ]
  },
  {
   "cell_type": "markdown",
   "metadata": {
    "id": "JcqHlu88ApAf"
   },
   "source": [
    "# การเเก้ไข tensor"
   ]
  },
  {
   "cell_type": "markdown",
   "metadata": {
    "id": "x82j3n9yA8Fc"
   },
   "source": [
    "นอกจากนั้นเเล้ว tensor ยังเสนอวิธีต่างๆในการเเก้ไขที่ง่ายต่อการใช้งานอีกด้วย"
   ]
  },
  {
   "cell_type": "code",
   "execution_count": null,
   "metadata": {
    "colab": {
     "base_uri": "https://localhost:8080/"
    },
    "id": "7qxEnbTRDP0Z",
    "outputId": "c09ef057-0ec0-43f3-8f3d-aea69a00ba00"
   },
   "outputs": [
    {
     "name": "stdout",
     "output_type": "stream",
     "text": [
      "tensor([[1., 1., 1., 1.],\n",
      "        [0., 0., 0., 0.],\n",
      "        [1., 1., 1., 1.],\n",
      "        [1., 1., 1., 1.]]) \n",
      "\n",
      "tensor([[6., 6., 6., 6.],\n",
      "        [5., 5., 5., 5.],\n",
      "        [6., 6., 6., 6.],\n",
      "        [6., 6., 6., 6.]])\n"
     ]
    }
   ],
   "source": [
    "print(tensor, \"\\n\")\n",
    "tensor.add_(5) # add 5 to the entire tensor\n",
    "print(tensor)"
   ]
  },
  {
   "cell_type": "code",
   "execution_count": null,
   "metadata": {
    "colab": {
     "base_uri": "https://localhost:8080/"
    },
    "id": "1pBJ-SL-AFpV",
    "outputId": "304d9589-c359-43c4-8ccc-4a1c16ae78b7"
   },
   "outputs": [
    {
     "name": "stdout",
     "output_type": "stream",
     "text": [
      "tensor([[1., 1., 1., 1.],\n",
      "        [1., 1., 1., 1.],\n",
      "        [1., 1., 1., 0.],\n",
      "        [1., 1., 1., 1.]])\n"
     ]
    }
   ],
   "source": [
    "tensor = torch.ones(4, 4)\n",
    "tensor[2,3] = 0 # set value for specific point in tensor\n",
    "print(tensor)"
   ]
  },
  {
   "cell_type": "code",
   "execution_count": 7,
   "metadata": {
    "colab": {
     "base_uri": "https://localhost:8080/"
    },
    "id": "fwC4zaRcAwHV",
    "outputId": "964278b0-1b8d-4686-a564-b26c8e9b5e08"
   },
   "outputs": [
    {
     "name": "stdout",
     "output_type": "stream",
     "text": [
      "Row concat : \n",
      " tensor([[1., 1., 1., 1.],\n",
      "        [1., 1., 1., 1.],\n",
      "        [1., 1., 1., 0.],\n",
      "        [1., 1., 1., 1.],\n",
      "        [1., 1., 1., 1.],\n",
      "        [1., 1., 1., 1.],\n",
      "        [1., 1., 1., 0.],\n",
      "        [1., 1., 1., 1.],\n",
      "        [1., 1., 1., 1.],\n",
      "        [1., 1., 1., 1.],\n",
      "        [1., 1., 1., 0.],\n",
      "        [1., 1., 1., 1.]])\n",
      "Column concat : \n",
      " tensor([[1., 1., 1., 1., 1., 1., 1., 1., 1., 1., 1., 1.],\n",
      "        [1., 1., 1., 1., 1., 1., 1., 1., 1., 1., 1., 1.],\n",
      "        [1., 1., 1., 0., 1., 1., 1., 0., 1., 1., 1., 0.],\n",
      "        [1., 1., 1., 1., 1., 1., 1., 1., 1., 1., 1., 1.]])\n"
     ]
    }
   ],
   "source": [
    "tensor = torch.ones(4, 4)\n",
    "tensor[2,3] = 0\n",
    "t1 = torch.cat([tensor, tensor, tensor], dim=0)\n",
    "print(\"Row concat : \\n\",t1)\n",
    "t2 = torch.cat([tensor, tensor, tensor], dim=1)\n",
    "print(\"Column concat : \\n\", t2)"
   ]
  },
  {
   "cell_type": "markdown",
   "metadata": {
    "id": "Wzf_10jCC2SQ"
   },
   "source": [
    "การคำนวณเชิง Matrix"
   ]
  },
  {
   "cell_type": "code",
   "execution_count": 9,
   "metadata": {
    "colab": {
     "base_uri": "https://localhost:8080/"
    },
    "id": "k9C5EaVTBJTy",
    "outputId": "33ee68ea-da4b-40bb-c016-bcb4efdb7225"
   },
   "outputs": [
    {
     "name": "stdout",
     "output_type": "stream",
     "text": [
      "T1: \n",
      " tensor([[1, 2],\n",
      "        [3, 4]]) \n",
      "T2: \n",
      " tensor([[5, 6],\n",
      "        [7, 8]])\n",
      "tensor.mul(tensor) \n",
      " tensor([[ 5, 12],\n",
      "        [21, 32]]) \n",
      "\n",
      "tensor * tensor \n",
      " tensor([[ 5, 12],\n",
      "        [21, 32]])\n"
     ]
    }
   ],
   "source": [
    "# tensor1 = torch.rand(4,4)\n",
    "# tensor2 = torch.rand(4,4)\n",
    "\n",
    "tensor1 = torch.tensor([[1,2],[3,4]])\n",
    "tensor2 = torch.tensor([[5,6],[7,8]])\n",
    "print(\"T1: \\n\", tensor1, \"\\nT2: \\n\", tensor2)\n",
    "# This computes the element-wise product\n",
    "print(f\"tensor.mul(tensor) \\n {tensor1.mul(tensor2)} \\n\")\n",
    "# Alternative syntax:\n",
    "print(f\"tensor * tensor \\n {tensor1 * tensor2}\")"
   ]
  },
  {
   "cell_type": "code",
   "execution_count": 13,
   "metadata": {
    "colab": {
     "base_uri": "https://localhost:8080/"
    },
    "id": "pAHCsh8_Dj9Q",
    "outputId": "e86c89ae-2eaa-44c2-b5f4-a631a0e91952"
   },
   "outputs": [
    {
     "name": "stdout",
     "output_type": "stream",
     "text": [
      "tensor.matmul(tensor) \n",
      " tensor([[3., 3., 3., 3.],\n",
      "        [0., 0., 0., 0.],\n",
      "        [3., 3., 3., 3.],\n",
      "        [3., 3., 3., 3.]]) \n",
      "\n",
      "tensor @ tensor \n",
      " tensor([[3., 3., 3., 3.],\n",
      "        [0., 0., 0., 0.],\n",
      "        [3., 3., 3., 3.],\n",
      "        [3., 3., 3., 3.]])\n"
     ]
    }
   ],
   "source": [
    "tensor = torch.ones(4, 4)\n",
    "tensor[1,] = 0\n",
    "print(f\"tensor.matmul(tensor) \\n {tensor.matmul(tensor)} \\n\")\n",
    "# Alternative syntax:\n",
    "print(f\"tensor @ tensor \\n {tensor @ tensor}\")"
   ]
  },
  {
   "cell_type": "code",
   "execution_count": 14,
   "metadata": {
    "colab": {
     "base_uri": "https://localhost:8080/"
    },
    "id": "8Q4RTWWPCDFx",
    "outputId": "bb99debd-25c2-443a-ab89-81333c9e9ff0"
   },
   "outputs": [
    {
     "name": "stdout",
     "output_type": "stream",
     "text": [
      "tensor.matmul(tensor.T) \n",
      " tensor([[4., 0., 4., 4.],\n",
      "        [0., 0., 0., 0.],\n",
      "        [4., 0., 4., 4.],\n",
      "        [4., 0., 4., 4.]]) \n",
      "\n",
      "tensor @ tensor.T \n",
      " tensor([[4., 0., 4., 4.],\n",
      "        [0., 0., 0., 0.],\n",
      "        [4., 0., 4., 4.],\n",
      "        [4., 0., 4., 4.]])\n"
     ]
    }
   ],
   "source": [
    "print(f\"tensor.matmul(tensor.T) \\n {tensor.matmul(tensor.t())} \\n\")\n",
    "# Alternative syntax:\n",
    "print(f\"tensor @ tensor.T \\n {tensor @ tensor.t()}\")"
   ]
  },
  {
   "cell_type": "markdown",
   "metadata": {
    "id": "OjWDTkMQGJGS"
   },
   "source": [
    "# HW1_2\n",
    "1. จงเขียนโค้ดเพื่อให้ได้ผลลัพธ์ดังภาพ\n",
    "\n",
    "```\n",
    "tensor([[1., 2., 3., 4.],\n",
    "        [2., 3., 4., 5.],\n",
    "        [3., 4., 5., 6.],\n",
    "        [4., 5., 6., 7.]])\n",
    "```\n",
    "โดยเริ่มต้นจาก\n",
    " tensor = torch.ones(4, 4)\n",
    "\n"
   ]
  }
 ],
 "metadata": {
  "colab": {
   "provenance": []
  },
  "kernelspec": {
   "display_name": "Python 3 (ipykernel)",
   "language": "python",
   "name": "python3"
  },
  "language_info": {
   "codemirror_mode": {
    "name": "ipython",
    "version": 3
   },
   "file_extension": ".py",
   "mimetype": "text/x-python",
   "name": "python",
   "nbconvert_exporter": "python",
   "pygments_lexer": "ipython3",
   "version": "3.12.7"
  }
 },
 "nbformat": 4,
 "nbformat_minor": 0
}
