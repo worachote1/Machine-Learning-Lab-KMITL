{
 "cells": [
  {
   "cell_type": "code",
   "execution_count": null,
   "metadata": {},
   "outputs": [],
   "source": [
    "# train model with reduced features (we use 5 feature previously)\n",
    "# and save model as joblib file\n",
    "import joblib\n",
    "svm = SVM_Non_Linear_Scratch(kernel='rbf')\n",
    "\n",
    "\n",
    "### remove later (after run anything fine)\n",
    "# Define the maximum number of samples per class\n",
    "max_samples_per_class = 2000\n",
    "\n",
    "# Get the indices of each class\n",
    "class_0_indices = np.where(y_train == 0)[0]\n",
    "class_1_indices = np.where(y_train == 1)[0]\n",
    "class_2_indices = np.where(y_train == 2)[0]\n",
    "\n",
    "# Sample randomly from each class, ensuring no more than 3000 samples per class\n",
    "class_0_sampled = np.random.choice(class_0_indices, min(max_samples_per_class, len(class_0_indices)), replace=False)\n",
    "class_1_sampled = np.random.choice(class_1_indices, min(max_samples_per_class, len(class_1_indices)), replace=False)\n",
    "class_2_sampled = np.random.choice(class_2_indices, min(max_samples_per_class, len(class_2_indices)), replace=False)\n",
    "\n",
    "# Combine the indices of the sampled classes\n",
    "sampled_indices = np.concatenate([class_0_sampled, class_1_sampled, class_2_sampled])\n",
    "\n",
    "# Ensure you are selecting the correct rows from DataFrame using .iloc\n",
    "X_train_sampled = X_train_PCA_Scratch[sampled_indices]\n",
    "y_train_sampled = y_train.iloc[sampled_indices]  # If y_train is a Pandas Series, use .iloc as well\n",
    "\n",
    "# Now, X_train_sampled and y_train_sampled contain 3000 samples per class\n",
    "# print(f\"Samples per class: {np.bincount(y_train_sampled)}\")\n",
    "\n",
    "X_train_PCA_Scratch = X_train_sampled.copy()\n",
    "y_train = y_train_sampled.copy()\n",
    "###\n",
    "\n",
    "# train model\n",
    "svm.fit(X_train_PCA_Scratch, y_train)\n",
    "\n",
    "# Save the trained model\n",
    "joblib.dump(svm, 'model_pca_svm.joblib')"
   ]
  }
 ],
 "metadata": {
  "language_info": {
   "name": "python"
  }
 },
 "nbformat": 4,
 "nbformat_minor": 2
}
