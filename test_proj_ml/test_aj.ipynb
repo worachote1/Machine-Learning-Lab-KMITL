{
 "cells": [
  {
   "cell_type": "code",
   "execution_count": null,
   "metadata": {},
   "outputs": [],
   "source": [
    "class PolyRegressionScratch:\n",
    "    \"\"\"\n",
    "    Custom implementation of polynomial regression using gradient descent.\n",
    "    Supports arbitrary polynomial degrees.\n",
    "    \"\"\"\n",
    "    def init(self, degree=2, alpha=0.0001, iterations=1000):\n",
    "        self.degree = degree\n",
    "        self.alpha = alpha\n",
    "        self.iterations = iterations\n",
    "        self.theta = None  # Model coefficients\n",
    "\n",
    "    def transform_features(self, X):\n",
    "        \"\"\" Apply polynomial transformation to X \"\"\"\n",
    "        poly = PolynomialFeatures(degree=self.degree, include_bias=False)\n",
    "        return poly.fit_transform(X)\n",
    "\n",
    "    def predict(self, X):\n",
    "        \"\"\" Compute predictions using the trained model \"\"\"\n",
    "        return np.dot(X, self.theta)\n",
    "\n",
    "    def compute_cost(self, X, y):\n",
    "        \"\"\" Compute Mean Squared Error (MSE) loss \"\"\"\n",
    "        m = len(y)\n",
    "        predictions = self.predict(X)\n",
    "        return (1 / (2 * m)) * np.sum((predictions - y) ** 2)\n",
    "\n",
    "    def fit(self, X, y):\n",
    "        \"\"\" Train the model using gradient descent \"\"\"\n",
    "        X_poly = self.transform_features(X)  # Transform features to polynomial terms\n",
    "        m, n = X_poly.shape  # Number of samples, number of features\n",
    "        self.theta = np.zeros(n)  # Initialize parameters\n",
    "\n",
    "        # Gradient Descent\n",
    "        for i in range(self.iterations):\n",
    "            predictions = self.predict(X_poly)\n",
    "            gradients = (1 / m) * np.dot(X_poly.T, (predictions - y))  # Compute gradients\n",
    "            self.theta -= self.alpha * gradients  # Update parameters\n",
    "\n",
    "            # Print cost every 100 iterations\n",
    "            if i % 100 == 0:\n",
    "                print(f\"Iteration {i}, Cost: {self.compute_cost(X_poly, y):.4f}\")\n",
    "\n",
    "        print(\"Final Parameters:\", self.theta)"
   ]
  }
 ],
 "metadata": {
  "language_info": {
   "name": "python"
  }
 },
 "nbformat": 4,
 "nbformat_minor": 2
}
